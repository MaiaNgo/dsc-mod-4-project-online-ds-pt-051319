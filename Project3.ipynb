{
 "cells": [
  {
   "cell_type": "markdown",
   "metadata": {},
   "source": [
    "# Mod 4 Project - Building Model to Predict House Price\n",
    "The purpose of this project is to use Zillow's historical house sale data to build a machine learning data model that can help to predict future house sale price.\n",
    "From that, we can go further to understand more about ROI, risks and opportunities to choose some best areas have best potential to invest in for profits."
   ]
  },
  {
   "cell_type": "markdown",
   "metadata": {},
   "source": [
    "# Step 1: Load, Clean and Prepare the Data"
   ]
  },
  {
   "cell_type": "code",
   "execution_count": 3,
   "metadata": {},
   "outputs": [],
   "source": [
    "# import all neccessary libraries\n",
    "import warnings\n",
    "import pandas as pd\n",
    "import matplotlib.pyplot as plt\n",
    "from matplotlib.pylab import rcParams\n",
    "import numpy as np\n",
    "import seaborn as sns\n",
    "\n",
    "import statsmodels.api as sm\n",
    "from statsmodels.tsa.stattools import adfuller\n",
    "from statsmodels.tsa.seasonal import seasonal_decompose\n",
    "from statsmodels.tsa.statespace.sarimax import SARIMAX\n",
    "from statsmodels.graphics.tsaplots import plot_acf,plot_pacf # for determining (p,q) orders\n",
    "from statsmodels.tsa.seasonal import seasonal_decompose      # for ETS Plots\n",
    "from pmdarima import auto_arima                              # for determining ARIMA orders\n",
    "\n",
    "from sklearn.metrics import mean_squared_error\n",
    "from tqdm import tqdm\n",
    "import itertools\n",
    "\n",
    "# ignore all harmless waring to keep the notebook clean\n",
    "warnings.filterwarnings('ignore')\n",
    "\n",
    "# keep the plot inline in notebookb\n",
    "%matplotlib inline"
   ]
  },
  {
   "cell_type": "code",
   "execution_count": 4,
   "metadata": {},
   "outputs": [],
   "source": [
    "# load Zillow data\n",
    "df = pd.read_csv('zillow_data.csv')"
   ]
  },
  {
   "cell_type": "code",
   "execution_count": 5,
   "metadata": {},
   "outputs": [
    {
     "data": {
      "text/html": [
       "<div>\n",
       "<style scoped>\n",
       "    .dataframe tbody tr th:only-of-type {\n",
       "        vertical-align: middle;\n",
       "    }\n",
       "\n",
       "    .dataframe tbody tr th {\n",
       "        vertical-align: top;\n",
       "    }\n",
       "\n",
       "    .dataframe thead th {\n",
       "        text-align: right;\n",
       "    }\n",
       "</style>\n",
       "<table border=\"1\" class=\"dataframe\">\n",
       "  <thead>\n",
       "    <tr style=\"text-align: right;\">\n",
       "      <th></th>\n",
       "      <th>RegionID</th>\n",
       "      <th>RegionName</th>\n",
       "      <th>City</th>\n",
       "      <th>State</th>\n",
       "      <th>Metro</th>\n",
       "      <th>CountyName</th>\n",
       "      <th>SizeRank</th>\n",
       "      <th>1996-04</th>\n",
       "      <th>1996-05</th>\n",
       "      <th>1996-06</th>\n",
       "      <th>...</th>\n",
       "      <th>2017-07</th>\n",
       "      <th>2017-08</th>\n",
       "      <th>2017-09</th>\n",
       "      <th>2017-10</th>\n",
       "      <th>2017-11</th>\n",
       "      <th>2017-12</th>\n",
       "      <th>2018-01</th>\n",
       "      <th>2018-02</th>\n",
       "      <th>2018-03</th>\n",
       "      <th>2018-04</th>\n",
       "    </tr>\n",
       "  </thead>\n",
       "  <tbody>\n",
       "    <tr>\n",
       "      <th>0</th>\n",
       "      <td>84654</td>\n",
       "      <td>60657</td>\n",
       "      <td>Chicago</td>\n",
       "      <td>IL</td>\n",
       "      <td>Chicago</td>\n",
       "      <td>Cook</td>\n",
       "      <td>1</td>\n",
       "      <td>334200.0</td>\n",
       "      <td>335400.0</td>\n",
       "      <td>336500.0</td>\n",
       "      <td>...</td>\n",
       "      <td>1005500</td>\n",
       "      <td>1007500</td>\n",
       "      <td>1007800</td>\n",
       "      <td>1009600</td>\n",
       "      <td>1013300</td>\n",
       "      <td>1018700</td>\n",
       "      <td>1024400</td>\n",
       "      <td>1030700</td>\n",
       "      <td>1033800</td>\n",
       "      <td>1030600</td>\n",
       "    </tr>\n",
       "    <tr>\n",
       "      <th>1</th>\n",
       "      <td>90668</td>\n",
       "      <td>75070</td>\n",
       "      <td>McKinney</td>\n",
       "      <td>TX</td>\n",
       "      <td>Dallas-Fort Worth</td>\n",
       "      <td>Collin</td>\n",
       "      <td>2</td>\n",
       "      <td>235700.0</td>\n",
       "      <td>236900.0</td>\n",
       "      <td>236700.0</td>\n",
       "      <td>...</td>\n",
       "      <td>308000</td>\n",
       "      <td>310000</td>\n",
       "      <td>312500</td>\n",
       "      <td>314100</td>\n",
       "      <td>315000</td>\n",
       "      <td>316600</td>\n",
       "      <td>318100</td>\n",
       "      <td>319600</td>\n",
       "      <td>321100</td>\n",
       "      <td>321800</td>\n",
       "    </tr>\n",
       "    <tr>\n",
       "      <th>2</th>\n",
       "      <td>91982</td>\n",
       "      <td>77494</td>\n",
       "      <td>Katy</td>\n",
       "      <td>TX</td>\n",
       "      <td>Houston</td>\n",
       "      <td>Harris</td>\n",
       "      <td>3</td>\n",
       "      <td>210400.0</td>\n",
       "      <td>212200.0</td>\n",
       "      <td>212200.0</td>\n",
       "      <td>...</td>\n",
       "      <td>321000</td>\n",
       "      <td>320600</td>\n",
       "      <td>320200</td>\n",
       "      <td>320400</td>\n",
       "      <td>320800</td>\n",
       "      <td>321200</td>\n",
       "      <td>321200</td>\n",
       "      <td>323000</td>\n",
       "      <td>326900</td>\n",
       "      <td>329900</td>\n",
       "    </tr>\n",
       "    <tr>\n",
       "      <th>3</th>\n",
       "      <td>84616</td>\n",
       "      <td>60614</td>\n",
       "      <td>Chicago</td>\n",
       "      <td>IL</td>\n",
       "      <td>Chicago</td>\n",
       "      <td>Cook</td>\n",
       "      <td>4</td>\n",
       "      <td>498100.0</td>\n",
       "      <td>500900.0</td>\n",
       "      <td>503100.0</td>\n",
       "      <td>...</td>\n",
       "      <td>1289800</td>\n",
       "      <td>1287700</td>\n",
       "      <td>1287400</td>\n",
       "      <td>1291500</td>\n",
       "      <td>1296600</td>\n",
       "      <td>1299000</td>\n",
       "      <td>1302700</td>\n",
       "      <td>1306400</td>\n",
       "      <td>1308500</td>\n",
       "      <td>1307000</td>\n",
       "    </tr>\n",
       "    <tr>\n",
       "      <th>4</th>\n",
       "      <td>93144</td>\n",
       "      <td>79936</td>\n",
       "      <td>El Paso</td>\n",
       "      <td>TX</td>\n",
       "      <td>El Paso</td>\n",
       "      <td>El Paso</td>\n",
       "      <td>5</td>\n",
       "      <td>77300.0</td>\n",
       "      <td>77300.0</td>\n",
       "      <td>77300.0</td>\n",
       "      <td>...</td>\n",
       "      <td>119100</td>\n",
       "      <td>119400</td>\n",
       "      <td>120000</td>\n",
       "      <td>120300</td>\n",
       "      <td>120300</td>\n",
       "      <td>120300</td>\n",
       "      <td>120300</td>\n",
       "      <td>120500</td>\n",
       "      <td>121000</td>\n",
       "      <td>121500</td>\n",
       "    </tr>\n",
       "  </tbody>\n",
       "</table>\n",
       "<p>5 rows × 272 columns</p>\n",
       "</div>"
      ],
      "text/plain": [
       "   RegionID  RegionName      City State              Metro CountyName  \\\n",
       "0     84654       60657   Chicago    IL            Chicago       Cook   \n",
       "1     90668       75070  McKinney    TX  Dallas-Fort Worth     Collin   \n",
       "2     91982       77494      Katy    TX            Houston     Harris   \n",
       "3     84616       60614   Chicago    IL            Chicago       Cook   \n",
       "4     93144       79936   El Paso    TX            El Paso    El Paso   \n",
       "\n",
       "   SizeRank   1996-04   1996-05   1996-06  ...  2017-07  2017-08  2017-09  \\\n",
       "0         1  334200.0  335400.0  336500.0  ...  1005500  1007500  1007800   \n",
       "1         2  235700.0  236900.0  236700.0  ...   308000   310000   312500   \n",
       "2         3  210400.0  212200.0  212200.0  ...   321000   320600   320200   \n",
       "3         4  498100.0  500900.0  503100.0  ...  1289800  1287700  1287400   \n",
       "4         5   77300.0   77300.0   77300.0  ...   119100   119400   120000   \n",
       "\n",
       "   2017-10  2017-11  2017-12  2018-01  2018-02  2018-03  2018-04  \n",
       "0  1009600  1013300  1018700  1024400  1030700  1033800  1030600  \n",
       "1   314100   315000   316600   318100   319600   321100   321800  \n",
       "2   320400   320800   321200   321200   323000   326900   329900  \n",
       "3  1291500  1296600  1299000  1302700  1306400  1308500  1307000  \n",
       "4   120300   120300   120300   120300   120500   121000   121500  \n",
       "\n",
       "[5 rows x 272 columns]"
      ]
     },
     "execution_count": 5,
     "metadata": {},
     "output_type": "execute_result"
    }
   ],
   "source": [
    "# quick look at the head of data\n",
    "df.head()"
   ]
  },
  {
   "cell_type": "code",
   "execution_count": 6,
   "metadata": {},
   "outputs": [],
   "source": [
    "# drop columns that we don't need them\n",
    "# we focus on state and zipcode only\n",
    "dropped_df = df.drop(['RegionID', 'City', 'Metro', 'CountyName', 'SizeRank'], axis=1)"
   ]
  },
  {
   "cell_type": "code",
   "execution_count": 7,
   "metadata": {},
   "outputs": [
    {
     "data": {
      "text/html": [
       "<div>\n",
       "<style scoped>\n",
       "    .dataframe tbody tr th:only-of-type {\n",
       "        vertical-align: middle;\n",
       "    }\n",
       "\n",
       "    .dataframe tbody tr th {\n",
       "        vertical-align: top;\n",
       "    }\n",
       "\n",
       "    .dataframe thead th {\n",
       "        text-align: right;\n",
       "    }\n",
       "</style>\n",
       "<table border=\"1\" class=\"dataframe\">\n",
       "  <thead>\n",
       "    <tr style=\"text-align: right;\">\n",
       "      <th></th>\n",
       "      <th>RegionName</th>\n",
       "      <th>State</th>\n",
       "      <th>1996-04</th>\n",
       "      <th>1996-05</th>\n",
       "      <th>1996-06</th>\n",
       "      <th>1996-07</th>\n",
       "      <th>1996-08</th>\n",
       "      <th>1996-09</th>\n",
       "      <th>1996-10</th>\n",
       "      <th>1996-11</th>\n",
       "      <th>...</th>\n",
       "      <th>2017-07</th>\n",
       "      <th>2017-08</th>\n",
       "      <th>2017-09</th>\n",
       "      <th>2017-10</th>\n",
       "      <th>2017-11</th>\n",
       "      <th>2017-12</th>\n",
       "      <th>2018-01</th>\n",
       "      <th>2018-02</th>\n",
       "      <th>2018-03</th>\n",
       "      <th>2018-04</th>\n",
       "    </tr>\n",
       "  </thead>\n",
       "  <tbody>\n",
       "    <tr>\n",
       "      <th>0</th>\n",
       "      <td>60657</td>\n",
       "      <td>IL</td>\n",
       "      <td>334200.0</td>\n",
       "      <td>335400.0</td>\n",
       "      <td>336500.0</td>\n",
       "      <td>337600.0</td>\n",
       "      <td>338500.0</td>\n",
       "      <td>339500.0</td>\n",
       "      <td>340400.0</td>\n",
       "      <td>341300.0</td>\n",
       "      <td>...</td>\n",
       "      <td>1005500</td>\n",
       "      <td>1007500</td>\n",
       "      <td>1007800</td>\n",
       "      <td>1009600</td>\n",
       "      <td>1013300</td>\n",
       "      <td>1018700</td>\n",
       "      <td>1024400</td>\n",
       "      <td>1030700</td>\n",
       "      <td>1033800</td>\n",
       "      <td>1030600</td>\n",
       "    </tr>\n",
       "    <tr>\n",
       "      <th>1</th>\n",
       "      <td>75070</td>\n",
       "      <td>TX</td>\n",
       "      <td>235700.0</td>\n",
       "      <td>236900.0</td>\n",
       "      <td>236700.0</td>\n",
       "      <td>235400.0</td>\n",
       "      <td>233300.0</td>\n",
       "      <td>230600.0</td>\n",
       "      <td>227300.0</td>\n",
       "      <td>223400.0</td>\n",
       "      <td>...</td>\n",
       "      <td>308000</td>\n",
       "      <td>310000</td>\n",
       "      <td>312500</td>\n",
       "      <td>314100</td>\n",
       "      <td>315000</td>\n",
       "      <td>316600</td>\n",
       "      <td>318100</td>\n",
       "      <td>319600</td>\n",
       "      <td>321100</td>\n",
       "      <td>321800</td>\n",
       "    </tr>\n",
       "    <tr>\n",
       "      <th>2</th>\n",
       "      <td>77494</td>\n",
       "      <td>TX</td>\n",
       "      <td>210400.0</td>\n",
       "      <td>212200.0</td>\n",
       "      <td>212200.0</td>\n",
       "      <td>210700.0</td>\n",
       "      <td>208300.0</td>\n",
       "      <td>205500.0</td>\n",
       "      <td>202500.0</td>\n",
       "      <td>199800.0</td>\n",
       "      <td>...</td>\n",
       "      <td>321000</td>\n",
       "      <td>320600</td>\n",
       "      <td>320200</td>\n",
       "      <td>320400</td>\n",
       "      <td>320800</td>\n",
       "      <td>321200</td>\n",
       "      <td>321200</td>\n",
       "      <td>323000</td>\n",
       "      <td>326900</td>\n",
       "      <td>329900</td>\n",
       "    </tr>\n",
       "    <tr>\n",
       "      <th>3</th>\n",
       "      <td>60614</td>\n",
       "      <td>IL</td>\n",
       "      <td>498100.0</td>\n",
       "      <td>500900.0</td>\n",
       "      <td>503100.0</td>\n",
       "      <td>504600.0</td>\n",
       "      <td>505500.0</td>\n",
       "      <td>505700.0</td>\n",
       "      <td>505300.0</td>\n",
       "      <td>504200.0</td>\n",
       "      <td>...</td>\n",
       "      <td>1289800</td>\n",
       "      <td>1287700</td>\n",
       "      <td>1287400</td>\n",
       "      <td>1291500</td>\n",
       "      <td>1296600</td>\n",
       "      <td>1299000</td>\n",
       "      <td>1302700</td>\n",
       "      <td>1306400</td>\n",
       "      <td>1308500</td>\n",
       "      <td>1307000</td>\n",
       "    </tr>\n",
       "    <tr>\n",
       "      <th>4</th>\n",
       "      <td>79936</td>\n",
       "      <td>TX</td>\n",
       "      <td>77300.0</td>\n",
       "      <td>77300.0</td>\n",
       "      <td>77300.0</td>\n",
       "      <td>77300.0</td>\n",
       "      <td>77400.0</td>\n",
       "      <td>77500.0</td>\n",
       "      <td>77600.0</td>\n",
       "      <td>77700.0</td>\n",
       "      <td>...</td>\n",
       "      <td>119100</td>\n",
       "      <td>119400</td>\n",
       "      <td>120000</td>\n",
       "      <td>120300</td>\n",
       "      <td>120300</td>\n",
       "      <td>120300</td>\n",
       "      <td>120300</td>\n",
       "      <td>120500</td>\n",
       "      <td>121000</td>\n",
       "      <td>121500</td>\n",
       "    </tr>\n",
       "  </tbody>\n",
       "</table>\n",
       "<p>5 rows × 267 columns</p>\n",
       "</div>"
      ],
      "text/plain": [
       "   RegionName State   1996-04   1996-05   1996-06   1996-07   1996-08  \\\n",
       "0       60657    IL  334200.0  335400.0  336500.0  337600.0  338500.0   \n",
       "1       75070    TX  235700.0  236900.0  236700.0  235400.0  233300.0   \n",
       "2       77494    TX  210400.0  212200.0  212200.0  210700.0  208300.0   \n",
       "3       60614    IL  498100.0  500900.0  503100.0  504600.0  505500.0   \n",
       "4       79936    TX   77300.0   77300.0   77300.0   77300.0   77400.0   \n",
       "\n",
       "    1996-09   1996-10   1996-11  ...  2017-07  2017-08  2017-09  2017-10  \\\n",
       "0  339500.0  340400.0  341300.0  ...  1005500  1007500  1007800  1009600   \n",
       "1  230600.0  227300.0  223400.0  ...   308000   310000   312500   314100   \n",
       "2  205500.0  202500.0  199800.0  ...   321000   320600   320200   320400   \n",
       "3  505700.0  505300.0  504200.0  ...  1289800  1287700  1287400  1291500   \n",
       "4   77500.0   77600.0   77700.0  ...   119100   119400   120000   120300   \n",
       "\n",
       "   2017-11  2017-12  2018-01  2018-02  2018-03  2018-04  \n",
       "0  1013300  1018700  1024400  1030700  1033800  1030600  \n",
       "1   315000   316600   318100   319600   321100   321800  \n",
       "2   320800   321200   321200   323000   326900   329900  \n",
       "3  1296600  1299000  1302700  1306400  1308500  1307000  \n",
       "4   120300   120300   120300   120500   121000   121500  \n",
       "\n",
       "[5 rows x 267 columns]"
      ]
     },
     "execution_count": 7,
     "metadata": {},
     "output_type": "execute_result"
    }
   ],
   "source": [
    "dropped_df.head()"
   ]
  },
  {
   "cell_type": "markdown",
   "metadata": {},
   "source": [
    "#### Reshape from Wide to Long Format"
   ]
  },
  {
   "cell_type": "code",
   "execution_count": 8,
   "metadata": {},
   "outputs": [],
   "source": [
    "def melt_data(df):\n",
    "    \"\"\"\n",
    "    melt data of one zip code from wide format to long format\n",
    "    \"\"\"\n",
    "    \n",
    "    melted = pd.melt(df, id_vars=['RegionName', 'State'], var_name='time')\n",
    "    melted['time'] = pd.to_datetime(melted['time'], infer_datetime_format=True)\n",
    "    #melted = melted.dropna(subset=['value'])\n",
    "    \n",
    "    return melted.groupby('time').aggregate({'value':'mean'})"
   ]
  },
  {
   "cell_type": "code",
   "execution_count": 9,
   "metadata": {},
   "outputs": [],
   "source": [
    "def melt_df(df):\n",
    "    \"\"\"\n",
    "    Loop through all zipcodes to melt data of each zipcode.\n",
    "    Then, merge all melted data back together\n",
    "    \"\"\"\n",
    "    \n",
    "    merged = []\n",
    "    for zipcode in df.RegionName:\n",
    "        melted = melt_data(df.loc[df['RegionName'] == zipcode])\n",
    "        row = df.loc[df['RegionName'] == zipcode].iloc[:,:2]\n",
    "        rows = pd.concat([row]*len(melted), ignore_index=True)\n",
    "        merge = pd.concat([rows, melted.reset_index()], axis= 1)\n",
    "        merged.append(merge)\n",
    "    melted_df = pd.concat(merged)\n",
    "    return melted_df"
   ]
  },
  {
   "cell_type": "code",
   "execution_count": 10,
   "metadata": {},
   "outputs": [],
   "source": [
    "# call the function to really melt data\n",
    "melted_df = melt_df(dropped_df)"
   ]
  },
  {
   "cell_type": "code",
   "execution_count": 11,
   "metadata": {},
   "outputs": [
    {
     "data": {
      "text/html": [
       "<div>\n",
       "<style scoped>\n",
       "    .dataframe tbody tr th:only-of-type {\n",
       "        vertical-align: middle;\n",
       "    }\n",
       "\n",
       "    .dataframe tbody tr th {\n",
       "        vertical-align: top;\n",
       "    }\n",
       "\n",
       "    .dataframe thead th {\n",
       "        text-align: right;\n",
       "    }\n",
       "</style>\n",
       "<table border=\"1\" class=\"dataframe\">\n",
       "  <thead>\n",
       "    <tr style=\"text-align: right;\">\n",
       "      <th></th>\n",
       "      <th>RegionName</th>\n",
       "      <th>State</th>\n",
       "      <th>time</th>\n",
       "      <th>value</th>\n",
       "    </tr>\n",
       "  </thead>\n",
       "  <tbody>\n",
       "    <tr>\n",
       "      <th>0</th>\n",
       "      <td>60657</td>\n",
       "      <td>IL</td>\n",
       "      <td>1996-04-01</td>\n",
       "      <td>334200.0</td>\n",
       "    </tr>\n",
       "    <tr>\n",
       "      <th>1</th>\n",
       "      <td>60657</td>\n",
       "      <td>IL</td>\n",
       "      <td>1996-05-01</td>\n",
       "      <td>335400.0</td>\n",
       "    </tr>\n",
       "    <tr>\n",
       "      <th>2</th>\n",
       "      <td>60657</td>\n",
       "      <td>IL</td>\n",
       "      <td>1996-06-01</td>\n",
       "      <td>336500.0</td>\n",
       "    </tr>\n",
       "    <tr>\n",
       "      <th>3</th>\n",
       "      <td>60657</td>\n",
       "      <td>IL</td>\n",
       "      <td>1996-07-01</td>\n",
       "      <td>337600.0</td>\n",
       "    </tr>\n",
       "    <tr>\n",
       "      <th>4</th>\n",
       "      <td>60657</td>\n",
       "      <td>IL</td>\n",
       "      <td>1996-08-01</td>\n",
       "      <td>338500.0</td>\n",
       "    </tr>\n",
       "  </tbody>\n",
       "</table>\n",
       "</div>"
      ],
      "text/plain": [
       "   RegionName State       time     value\n",
       "0       60657    IL 1996-04-01  334200.0\n",
       "1       60657    IL 1996-05-01  335400.0\n",
       "2       60657    IL 1996-06-01  336500.0\n",
       "3       60657    IL 1996-07-01  337600.0\n",
       "4       60657    IL 1996-08-01  338500.0"
      ]
     },
     "execution_count": 11,
     "metadata": {},
     "output_type": "execute_result"
    }
   ],
   "source": [
    "melted_df.head()"
   ]
  },
  {
   "cell_type": "code",
   "execution_count": 12,
   "metadata": {},
   "outputs": [
    {
     "name": "stdout",
     "output_type": "stream",
     "text": [
      "<class 'pandas.core.frame.DataFrame'>\n",
      "Int64Index: 3901595 entries, 0 to 264\n",
      "Data columns (total 4 columns):\n",
      "RegionName    int64\n",
      "State         object\n",
      "time          datetime64[ns]\n",
      "value         float64\n",
      "dtypes: datetime64[ns](1), float64(1), int64(1), object(1)\n",
      "memory usage: 148.8+ MB\n"
     ]
    }
   ],
   "source": [
    "melted_df.info()"
   ]
  },
  {
   "cell_type": "markdown",
   "metadata": {},
   "source": [
    "#### Convert to Time Series Data by setting the time column as the index"
   ]
  },
  {
   "cell_type": "code",
   "execution_count": 13,
   "metadata": {},
   "outputs": [],
   "source": [
    "# make it as time series\n",
    "melted_df.set_index('time', inplace=True)"
   ]
  },
  {
   "cell_type": "code",
   "execution_count": 14,
   "metadata": {},
   "outputs": [
    {
     "data": {
      "text/html": [
       "<div>\n",
       "<style scoped>\n",
       "    .dataframe tbody tr th:only-of-type {\n",
       "        vertical-align: middle;\n",
       "    }\n",
       "\n",
       "    .dataframe tbody tr th {\n",
       "        vertical-align: top;\n",
       "    }\n",
       "\n",
       "    .dataframe thead th {\n",
       "        text-align: right;\n",
       "    }\n",
       "</style>\n",
       "<table border=\"1\" class=\"dataframe\">\n",
       "  <thead>\n",
       "    <tr style=\"text-align: right;\">\n",
       "      <th></th>\n",
       "      <th>RegionName</th>\n",
       "      <th>State</th>\n",
       "      <th>value</th>\n",
       "    </tr>\n",
       "    <tr>\n",
       "      <th>time</th>\n",
       "      <th></th>\n",
       "      <th></th>\n",
       "      <th></th>\n",
       "    </tr>\n",
       "  </thead>\n",
       "  <tbody>\n",
       "    <tr>\n",
       "      <th>1996-04-01</th>\n",
       "      <td>60657</td>\n",
       "      <td>IL</td>\n",
       "      <td>334200.0</td>\n",
       "    </tr>\n",
       "    <tr>\n",
       "      <th>1996-05-01</th>\n",
       "      <td>60657</td>\n",
       "      <td>IL</td>\n",
       "      <td>335400.0</td>\n",
       "    </tr>\n",
       "    <tr>\n",
       "      <th>1996-06-01</th>\n",
       "      <td>60657</td>\n",
       "      <td>IL</td>\n",
       "      <td>336500.0</td>\n",
       "    </tr>\n",
       "    <tr>\n",
       "      <th>1996-07-01</th>\n",
       "      <td>60657</td>\n",
       "      <td>IL</td>\n",
       "      <td>337600.0</td>\n",
       "    </tr>\n",
       "    <tr>\n",
       "      <th>1996-08-01</th>\n",
       "      <td>60657</td>\n",
       "      <td>IL</td>\n",
       "      <td>338500.0</td>\n",
       "    </tr>\n",
       "  </tbody>\n",
       "</table>\n",
       "</div>"
      ],
      "text/plain": [
       "            RegionName State     value\n",
       "time                                  \n",
       "1996-04-01       60657    IL  334200.0\n",
       "1996-05-01       60657    IL  335400.0\n",
       "1996-06-01       60657    IL  336500.0\n",
       "1996-07-01       60657    IL  337600.0\n",
       "1996-08-01       60657    IL  338500.0"
      ]
     },
     "execution_count": 14,
     "metadata": {},
     "output_type": "execute_result"
    }
   ],
   "source": [
    "# look at the head again\n",
    "melted_df.head()"
   ]
  },
  {
   "cell_type": "code",
   "execution_count": 15,
   "metadata": {},
   "outputs": [
    {
     "data": {
      "text/html": [
       "<div>\n",
       "<style scoped>\n",
       "    .dataframe tbody tr th:only-of-type {\n",
       "        vertical-align: middle;\n",
       "    }\n",
       "\n",
       "    .dataframe tbody tr th {\n",
       "        vertical-align: top;\n",
       "    }\n",
       "\n",
       "    .dataframe thead th {\n",
       "        text-align: right;\n",
       "    }\n",
       "</style>\n",
       "<table border=\"1\" class=\"dataframe\">\n",
       "  <thead>\n",
       "    <tr style=\"text-align: right;\">\n",
       "      <th></th>\n",
       "      <th>zipcode</th>\n",
       "      <th>state</th>\n",
       "      <th>value</th>\n",
       "    </tr>\n",
       "    <tr>\n",
       "      <th>time</th>\n",
       "      <th></th>\n",
       "      <th></th>\n",
       "      <th></th>\n",
       "    </tr>\n",
       "  </thead>\n",
       "  <tbody>\n",
       "    <tr>\n",
       "      <th>1996-04-01</th>\n",
       "      <td>60657</td>\n",
       "      <td>IL</td>\n",
       "      <td>334200.0</td>\n",
       "    </tr>\n",
       "    <tr>\n",
       "      <th>1996-05-01</th>\n",
       "      <td>60657</td>\n",
       "      <td>IL</td>\n",
       "      <td>335400.0</td>\n",
       "    </tr>\n",
       "    <tr>\n",
       "      <th>1996-06-01</th>\n",
       "      <td>60657</td>\n",
       "      <td>IL</td>\n",
       "      <td>336500.0</td>\n",
       "    </tr>\n",
       "    <tr>\n",
       "      <th>1996-07-01</th>\n",
       "      <td>60657</td>\n",
       "      <td>IL</td>\n",
       "      <td>337600.0</td>\n",
       "    </tr>\n",
       "    <tr>\n",
       "      <th>1996-08-01</th>\n",
       "      <td>60657</td>\n",
       "      <td>IL</td>\n",
       "      <td>338500.0</td>\n",
       "    </tr>\n",
       "  </tbody>\n",
       "</table>\n",
       "</div>"
      ],
      "text/plain": [
       "            zipcode state     value\n",
       "time                               \n",
       "1996-04-01    60657    IL  334200.0\n",
       "1996-05-01    60657    IL  335400.0\n",
       "1996-06-01    60657    IL  336500.0\n",
       "1996-07-01    60657    IL  337600.0\n",
       "1996-08-01    60657    IL  338500.0"
      ]
     },
     "execution_count": 15,
     "metadata": {},
     "output_type": "execute_result"
    }
   ],
   "source": [
    "# rename columns\n",
    "melted_df.rename(columns={'RegionName': 'zipcode', 'State': 'state'}, inplace=True)\n",
    "melted_df.head()"
   ]
  },
  {
   "cell_type": "markdown",
   "metadata": {},
   "source": [
    "#### Now, it's a good time to fill missing data in value column using forward fill"
   ]
  },
  {
   "cell_type": "code",
   "execution_count": 16,
   "metadata": {},
   "outputs": [
    {
     "data": {
      "text/plain": [
       "zipcode    False\n",
       "state      False\n",
       "value       True\n",
       "dtype: bool"
      ]
     },
     "execution_count": 16,
     "metadata": {},
     "output_type": "execute_result"
    }
   ],
   "source": [
    "# check any columns has na/nan value, if there is missing data\n",
    "melted_df.isna().any()"
   ]
  },
  {
   "cell_type": "code",
   "execution_count": 17,
   "metadata": {},
   "outputs": [
    {
     "data": {
      "text/plain": [
       "Metro      1043\n",
       "1996-04    1039\n",
       "1996-05    1039\n",
       "1996-06    1039\n",
       "1996-07    1039\n",
       "dtype: int64"
      ]
     },
     "execution_count": 17,
     "metadata": {},
     "output_type": "execute_result"
    }
   ],
   "source": [
    "null_columns = melted_df.columns[df.isnull().any()]\n",
    "df[null_columns].isnull().sum().head()"
   ]
  },
  {
   "cell_type": "markdown",
   "metadata": {},
   "source": [
    "#### We see `value` column has missing data\n",
    "It’s often useful to be able to fill missing data with realistic values such as the average of a time period. However, if we are working with a time series problem and we really want our data to be realistic, we wouldn't want to do a backfill of our data since that’s like looking into the future and getting information you would never have at that time period.\n",
    "We are going to do forward fill our data as follow."
   ]
  },
  {
   "cell_type": "code",
   "execution_count": 2,
   "metadata": {},
   "outputs": [],
   "source": [
    "#### forward fill missing value\n",
    "final_df = melted_df.ffill()"
   ]
  },
  {
   "cell_type": "code",
   "execution_count": 387,
   "metadata": {},
   "outputs": [
    {
     "data": {
      "text/plain": [
       "zipcode    False\n",
       "state      False\n",
       "value      False\n",
       "dtype: bool"
      ]
     },
     "execution_count": 387,
     "metadata": {},
     "output_type": "execute_result"
    }
   ],
   "source": [
    "# check missing data again\n",
    "final_df.isna().any()"
   ]
  },
  {
   "cell_type": "markdown",
   "metadata": {},
   "source": [
    "#### Now we see no more missing value in any column"
   ]
  },
  {
   "cell_type": "code",
   "execution_count": 389,
   "metadata": {},
   "outputs": [
    {
     "data": {
      "text/html": [
       "<div>\n",
       "<style scoped>\n",
       "    .dataframe tbody tr th:only-of-type {\n",
       "        vertical-align: middle;\n",
       "    }\n",
       "\n",
       "    .dataframe tbody tr th {\n",
       "        vertical-align: top;\n",
       "    }\n",
       "\n",
       "    .dataframe thead th {\n",
       "        text-align: right;\n",
       "    }\n",
       "</style>\n",
       "<table border=\"1\" class=\"dataframe\">\n",
       "  <thead>\n",
       "    <tr style=\"text-align: right;\">\n",
       "      <th></th>\n",
       "      <th>zipcode</th>\n",
       "      <th>state</th>\n",
       "      <th>value</th>\n",
       "    </tr>\n",
       "    <tr>\n",
       "      <th>time</th>\n",
       "      <th></th>\n",
       "      <th></th>\n",
       "      <th></th>\n",
       "    </tr>\n",
       "  </thead>\n",
       "  <tbody>\n",
       "    <tr>\n",
       "      <th>1996-04-01</th>\n",
       "      <td>60657</td>\n",
       "      <td>IL</td>\n",
       "      <td>334200.0</td>\n",
       "    </tr>\n",
       "    <tr>\n",
       "      <th>1996-05-01</th>\n",
       "      <td>60657</td>\n",
       "      <td>IL</td>\n",
       "      <td>335400.0</td>\n",
       "    </tr>\n",
       "    <tr>\n",
       "      <th>1996-06-01</th>\n",
       "      <td>60657</td>\n",
       "      <td>IL</td>\n",
       "      <td>336500.0</td>\n",
       "    </tr>\n",
       "    <tr>\n",
       "      <th>1996-07-01</th>\n",
       "      <td>60657</td>\n",
       "      <td>IL</td>\n",
       "      <td>337600.0</td>\n",
       "    </tr>\n",
       "    <tr>\n",
       "      <th>1996-08-01</th>\n",
       "      <td>60657</td>\n",
       "      <td>IL</td>\n",
       "      <td>338500.0</td>\n",
       "    </tr>\n",
       "  </tbody>\n",
       "</table>\n",
       "</div>"
      ],
      "text/plain": [
       "            zipcode state     value\n",
       "time                               \n",
       "1996-04-01    60657    IL  334200.0\n",
       "1996-05-01    60657    IL  335400.0\n",
       "1996-06-01    60657    IL  336500.0\n",
       "1996-07-01    60657    IL  337600.0\n",
       "1996-08-01    60657    IL  338500.0"
      ]
     },
     "execution_count": 389,
     "metadata": {},
     "output_type": "execute_result"
    }
   ],
   "source": [
    "# Take a look at the final dataframe before performing EDA\n",
    "final_df.head()"
   ]
  },
  {
   "cell_type": "markdown",
   "metadata": {},
   "source": [
    "#### SAVE THE CLEAN DATA TO .CSV"
   ]
  },
  {
   "cell_type": "markdown",
   "metadata": {},
   "source": [
    "# Step 2: EDA and Visualization"
   ]
  },
  {
   "cell_type": "code",
   "execution_count": null,
   "metadata": {},
   "outputs": [],
   "source": [
    "!pip install plotly==4.2.1"
   ]
  },
  {
   "cell_type": "code",
   "execution_count": 390,
   "metadata": {},
   "outputs": [
    {
     "data": {
      "application/vnd.plotly.v1+json": {
       "config": {
        "plotlyServerURL": "https://plot.ly"
       },
       "data": [
        {
         "hoverlabel": {
          "namelength": 0
         },
         "hovertemplate": "<b>%{hovertext}</b><br><br>time=%{x}<br>value=%{y}",
         "hovertext": [
          60657,
          60657,
          60657,
          60657,
          60657,
          60657,
          60657,
          60657,
          60657,
          60657,
          60657,
          60657,
          60657,
          60657,
          60657,
          60657,
          60657,
          60657,
          60657,
          60657,
          60657,
          60657,
          60657,
          60657,
          60657,
          60657,
          60657,
          60657,
          60657,
          60657,
          60657,
          60657,
          60657,
          60657,
          60657,
          60657,
          60657,
          60657,
          60657,
          60657,
          60657,
          60657,
          60657,
          60657,
          60657,
          60657,
          60657,
          60657,
          60657,
          60657,
          60657,
          60657,
          60657,
          60657,
          60657,
          60657,
          60657,
          60657,
          60657,
          60657,
          60657,
          60657,
          60657,
          60657,
          60657,
          60657,
          60657,
          60657,
          60657,
          60657,
          60657,
          60657,
          60657,
          60657,
          60657,
          60657,
          60657,
          60657,
          60657,
          60657,
          60657,
          60657,
          60657,
          60657,
          60657,
          60657,
          60657,
          60657,
          60657,
          60657,
          60657,
          60657,
          60657,
          60657,
          60657,
          60657,
          60657,
          60657,
          60657,
          60657,
          60657,
          60657,
          60657,
          60657,
          60657,
          60657,
          60657,
          60657,
          60657,
          60657,
          60657,
          60657,
          60657,
          60657,
          60657,
          60657,
          60657,
          60657,
          60657,
          60657,
          60657,
          60657,
          60657,
          60657,
          60657,
          60657,
          60657,
          60657,
          60657,
          60657,
          60657,
          60657,
          60657,
          60657,
          60657,
          60657,
          60657,
          60657,
          60657,
          60657,
          60657,
          60657,
          60657,
          60657,
          60657,
          60657,
          60657,
          60657,
          60657,
          60657,
          60657,
          60657,
          60657,
          60657,
          60657,
          60657,
          60657,
          60657,
          60657,
          60657,
          60657,
          60657,
          60657,
          60657,
          60657,
          60657,
          60657,
          60657,
          60657,
          60657,
          60657,
          60657,
          60657,
          60657,
          60657,
          60657,
          60657,
          60657,
          60657,
          60657,
          60657,
          60657,
          60657,
          60657,
          60657,
          60657,
          60657,
          60657,
          60657,
          60657,
          60657,
          60657,
          60657,
          60657,
          60657,
          60657,
          60657,
          60657,
          60657,
          60657,
          60657,
          60657,
          60657,
          60657,
          60657,
          60657,
          60657,
          60657,
          60657,
          60657,
          60657,
          60657,
          60657,
          60657,
          60657,
          60657,
          60657,
          60657,
          60657,
          60657,
          60657,
          60657,
          60657,
          60657,
          60657,
          60657,
          60657,
          60657,
          60657,
          60657,
          60657,
          60657,
          60657,
          60657,
          60657,
          60657,
          60657,
          60657,
          60657,
          60657,
          60657,
          60657,
          60657,
          60657,
          60657,
          60657,
          60657,
          60657,
          60657,
          60657,
          60657,
          60657,
          60657,
          60657,
          60657,
          60657,
          60657,
          60657,
          60657,
          60657,
          60657,
          60657,
          60657,
          60657,
          60657
         ],
         "legendgroup": "",
         "line": {
          "color": "#636efa",
          "dash": "solid"
         },
         "mode": "lines",
         "name": "",
         "showlegend": false,
         "type": "scatter",
         "x": [
          "1996-04-01T00:00:00",
          "1996-05-01T00:00:00",
          "1996-06-01T00:00:00",
          "1996-07-01T00:00:00",
          "1996-08-01T00:00:00",
          "1996-09-01T00:00:00",
          "1996-10-01T00:00:00",
          "1996-11-01T00:00:00",
          "1996-12-01T00:00:00",
          "1997-01-01T00:00:00",
          "1997-02-01T00:00:00",
          "1997-03-01T00:00:00",
          "1997-04-01T00:00:00",
          "1997-05-01T00:00:00",
          "1997-06-01T00:00:00",
          "1997-07-01T00:00:00",
          "1997-08-01T00:00:00",
          "1997-09-01T00:00:00",
          "1997-10-01T00:00:00",
          "1997-11-01T00:00:00",
          "1997-12-01T00:00:00",
          "1998-01-01T00:00:00",
          "1998-02-01T00:00:00",
          "1998-03-01T00:00:00",
          "1998-04-01T00:00:00",
          "1998-05-01T00:00:00",
          "1998-06-01T00:00:00",
          "1998-07-01T00:00:00",
          "1998-08-01T00:00:00",
          "1998-09-01T00:00:00",
          "1998-10-01T00:00:00",
          "1998-11-01T00:00:00",
          "1998-12-01T00:00:00",
          "1999-01-01T00:00:00",
          "1999-02-01T00:00:00",
          "1999-03-01T00:00:00",
          "1999-04-01T00:00:00",
          "1999-05-01T00:00:00",
          "1999-06-01T00:00:00",
          "1999-07-01T00:00:00",
          "1999-08-01T00:00:00",
          "1999-09-01T00:00:00",
          "1999-10-01T00:00:00",
          "1999-11-01T00:00:00",
          "1999-12-01T00:00:00",
          "2000-01-01T00:00:00",
          "2000-02-01T00:00:00",
          "2000-03-01T00:00:00",
          "2000-04-01T00:00:00",
          "2000-05-01T00:00:00",
          "2000-06-01T00:00:00",
          "2000-07-01T00:00:00",
          "2000-08-01T00:00:00",
          "2000-09-01T00:00:00",
          "2000-10-01T00:00:00",
          "2000-11-01T00:00:00",
          "2000-12-01T00:00:00",
          "2001-01-01T00:00:00",
          "2001-02-01T00:00:00",
          "2001-03-01T00:00:00",
          "2001-04-01T00:00:00",
          "2001-05-01T00:00:00",
          "2001-06-01T00:00:00",
          "2001-07-01T00:00:00",
          "2001-08-01T00:00:00",
          "2001-09-01T00:00:00",
          "2001-10-01T00:00:00",
          "2001-11-01T00:00:00",
          "2001-12-01T00:00:00",
          "2002-01-01T00:00:00",
          "2002-02-01T00:00:00",
          "2002-03-01T00:00:00",
          "2002-04-01T00:00:00",
          "2002-05-01T00:00:00",
          "2002-06-01T00:00:00",
          "2002-07-01T00:00:00",
          "2002-08-01T00:00:00",
          "2002-09-01T00:00:00",
          "2002-10-01T00:00:00",
          "2002-11-01T00:00:00",
          "2002-12-01T00:00:00",
          "2003-01-01T00:00:00",
          "2003-02-01T00:00:00",
          "2003-03-01T00:00:00",
          "2003-04-01T00:00:00",
          "2003-05-01T00:00:00",
          "2003-06-01T00:00:00",
          "2003-07-01T00:00:00",
          "2003-08-01T00:00:00",
          "2003-09-01T00:00:00",
          "2003-10-01T00:00:00",
          "2003-11-01T00:00:00",
          "2003-12-01T00:00:00",
          "2004-01-01T00:00:00",
          "2004-02-01T00:00:00",
          "2004-03-01T00:00:00",
          "2004-04-01T00:00:00",
          "2004-05-01T00:00:00",
          "2004-06-01T00:00:00",
          "2004-07-01T00:00:00",
          "2004-08-01T00:00:00",
          "2004-09-01T00:00:00",
          "2004-10-01T00:00:00",
          "2004-11-01T00:00:00",
          "2004-12-01T00:00:00",
          "2005-01-01T00:00:00",
          "2005-02-01T00:00:00",
          "2005-03-01T00:00:00",
          "2005-04-01T00:00:00",
          "2005-05-01T00:00:00",
          "2005-06-01T00:00:00",
          "2005-07-01T00:00:00",
          "2005-08-01T00:00:00",
          "2005-09-01T00:00:00",
          "2005-10-01T00:00:00",
          "2005-11-01T00:00:00",
          "2005-12-01T00:00:00",
          "2006-01-01T00:00:00",
          "2006-02-01T00:00:00",
          "2006-03-01T00:00:00",
          "2006-04-01T00:00:00",
          "2006-05-01T00:00:00",
          "2006-06-01T00:00:00",
          "2006-07-01T00:00:00",
          "2006-08-01T00:00:00",
          "2006-09-01T00:00:00",
          "2006-10-01T00:00:00",
          "2006-11-01T00:00:00",
          "2006-12-01T00:00:00",
          "2007-01-01T00:00:00",
          "2007-02-01T00:00:00",
          "2007-03-01T00:00:00",
          "2007-04-01T00:00:00",
          "2007-05-01T00:00:00",
          "2007-06-01T00:00:00",
          "2007-07-01T00:00:00",
          "2007-08-01T00:00:00",
          "2007-09-01T00:00:00",
          "2007-10-01T00:00:00",
          "2007-11-01T00:00:00",
          "2007-12-01T00:00:00",
          "2008-01-01T00:00:00",
          "2008-02-01T00:00:00",
          "2008-03-01T00:00:00",
          "2008-04-01T00:00:00",
          "2008-05-01T00:00:00",
          "2008-06-01T00:00:00",
          "2008-07-01T00:00:00",
          "2008-08-01T00:00:00",
          "2008-09-01T00:00:00",
          "2008-10-01T00:00:00",
          "2008-11-01T00:00:00",
          "2008-12-01T00:00:00",
          "2009-01-01T00:00:00",
          "2009-02-01T00:00:00",
          "2009-03-01T00:00:00",
          "2009-04-01T00:00:00",
          "2009-05-01T00:00:00",
          "2009-06-01T00:00:00",
          "2009-07-01T00:00:00",
          "2009-08-01T00:00:00",
          "2009-09-01T00:00:00",
          "2009-10-01T00:00:00",
          "2009-11-01T00:00:00",
          "2009-12-01T00:00:00",
          "2010-01-01T00:00:00",
          "2010-02-01T00:00:00",
          "2010-03-01T00:00:00",
          "2010-04-01T00:00:00",
          "2010-05-01T00:00:00",
          "2010-06-01T00:00:00",
          "2010-07-01T00:00:00",
          "2010-08-01T00:00:00",
          "2010-09-01T00:00:00",
          "2010-10-01T00:00:00",
          "2010-11-01T00:00:00",
          "2010-12-01T00:00:00",
          "2011-01-01T00:00:00",
          "2011-02-01T00:00:00",
          "2011-03-01T00:00:00",
          "2011-04-01T00:00:00",
          "2011-05-01T00:00:00",
          "2011-06-01T00:00:00",
          "2011-07-01T00:00:00",
          "2011-08-01T00:00:00",
          "2011-09-01T00:00:00",
          "2011-10-01T00:00:00",
          "2011-11-01T00:00:00",
          "2011-12-01T00:00:00",
          "2012-01-01T00:00:00",
          "2012-02-01T00:00:00",
          "2012-03-01T00:00:00",
          "2012-04-01T00:00:00",
          "2012-05-01T00:00:00",
          "2012-06-01T00:00:00",
          "2012-07-01T00:00:00",
          "2012-08-01T00:00:00",
          "2012-09-01T00:00:00",
          "2012-10-01T00:00:00",
          "2012-11-01T00:00:00",
          "2012-12-01T00:00:00",
          "2013-01-01T00:00:00",
          "2013-02-01T00:00:00",
          "2013-03-01T00:00:00",
          "2013-04-01T00:00:00",
          "2013-05-01T00:00:00",
          "2013-06-01T00:00:00",
          "2013-07-01T00:00:00",
          "2013-08-01T00:00:00",
          "2013-09-01T00:00:00",
          "2013-10-01T00:00:00",
          "2013-11-01T00:00:00",
          "2013-12-01T00:00:00",
          "2014-01-01T00:00:00",
          "2014-02-01T00:00:00",
          "2014-03-01T00:00:00",
          "2014-04-01T00:00:00",
          "2014-05-01T00:00:00",
          "2014-06-01T00:00:00",
          "2014-07-01T00:00:00",
          "2014-08-01T00:00:00",
          "2014-09-01T00:00:00",
          "2014-10-01T00:00:00",
          "2014-11-01T00:00:00",
          "2014-12-01T00:00:00",
          "2015-01-01T00:00:00",
          "2015-02-01T00:00:00",
          "2015-03-01T00:00:00",
          "2015-04-01T00:00:00",
          "2015-05-01T00:00:00",
          "2015-06-01T00:00:00",
          "2015-07-01T00:00:00",
          "2015-08-01T00:00:00",
          "2015-09-01T00:00:00",
          "2015-10-01T00:00:00",
          "2015-11-01T00:00:00",
          "2015-12-01T00:00:00",
          "2016-01-01T00:00:00",
          "2016-02-01T00:00:00",
          "2016-03-01T00:00:00",
          "2016-04-01T00:00:00",
          "2016-05-01T00:00:00",
          "2016-06-01T00:00:00",
          "2016-07-01T00:00:00",
          "2016-08-01T00:00:00",
          "2016-09-01T00:00:00",
          "2016-10-01T00:00:00",
          "2016-11-01T00:00:00",
          "2016-12-01T00:00:00",
          "2017-01-01T00:00:00",
          "2017-02-01T00:00:00",
          "2017-03-01T00:00:00",
          "2017-04-01T00:00:00",
          "2017-05-01T00:00:00",
          "2017-06-01T00:00:00",
          "2017-07-01T00:00:00",
          "2017-08-01T00:00:00",
          "2017-09-01T00:00:00",
          "2017-10-01T00:00:00",
          "2017-11-01T00:00:00",
          "2017-12-01T00:00:00",
          "2018-01-01T00:00:00",
          "2018-02-01T00:00:00",
          "2018-03-01T00:00:00",
          "2018-04-01T00:00:00"
         ],
         "xaxis": "x",
         "y": [
          334200,
          335400,
          336500,
          337600,
          338500,
          339500,
          340400,
          341300,
          342600,
          344400,
          345700,
          346700,
          347800,
          349000,
          350400,
          352000,
          353900,
          356200,
          358800,
          361800,
          365700,
          370200,
          374700,
          378900,
          383500,
          388300,
          393300,
          398500,
          403800,
          409100,
          414600,
          420100,
          426200,
          432600,
          438600,
          444200,
          450000,
          455900,
          462100,
          468500,
          475300,
          482500,
          490200,
          498200,
          507200,
          516800,
          526300,
          535300,
          544500,
          553500,
          562400,
          571200,
          579800,
          588100,
          596300,
          604200,
          612200,
          620200,
          627700,
          634500,
          641000,
          647000,
          652700,
          658100,
          663300,
          668400,
          673400,
          678300,
          683200,
          688300,
          693300,
          698000,
          702400,
          706400,
          710200,
          714000,
          717800,
          721700,
          725700,
          729900,
          733400,
          735600,
          737200,
          739000,
          740900,
          742700,
          744400,
          746000,
          747200,
          748000,
          749000,
          750200,
          752300,
          755300,
          759200,
          764000,
          769600,
          775600,
          781900,
          787900,
          793200,
          798200,
          803100,
          807900,
          812900,
          818100,
          823100,
          828300,
          834100,
          839800,
          845600,
          851800,
          858000,
          864400,
          870700,
          876200,
          880700,
          884400,
          887600,
          890500,
          893300,
          895500,
          897300,
          899000,
          900400,
          902000,
          904400,
          907100,
          909700,
          911900,
          913000,
          913000,
          912000,
          909300,
          905300,
          901400,
          897900,
          895400,
          893600,
          891100,
          887000,
          881700,
          875900,
          870300,
          865100,
          859000,
          851500,
          843800,
          836400,
          830700,
          827300,
          824800,
          821600,
          818300,
          814600,
          809800,
          803600,
          795500,
          786900,
          780700,
          776900,
          774700,
          774200,
          774400,
          774600,
          775600,
          777800,
          775200,
          767900,
          764700,
          766100,
          764100,
          759700,
          754900,
          746200,
          737300,
          730800,
          729300,
          730200,
          730700,
          730000,
          730100,
          730100,
          731200,
          733900,
          735500,
          735400,
          734400,
          737500,
          737700,
          733700,
          734000,
          740300,
          744600,
          750500,
          760400,
          771800,
          780600,
          787900,
          794100,
          798900,
          802300,
          806100,
          810900,
          817400,
          826800,
          837900,
          848100,
          853800,
          856700,
          856600,
          854400,
          853000,
          856200,
          859700,
          863900,
          872900,
          883300,
          889500,
          892800,
          893600,
          891300,
          889900,
          891500,
          893000,
          893000,
          895000,
          901200,
          909400,
          915000,
          916700,
          917700,
          919800,
          925800,
          937100,
          948200,
          951000,
          952500,
          958600,
          966200,
          970400,
          973900,
          974700,
          972600,
          974300,
          980800,
          988000,
          994700,
          998700,
          997000,
          993700,
          991300,
          989200,
          991300,
          999100,
          1005500,
          1007500,
          1007800,
          1009600,
          1013300,
          1018700,
          1024400,
          1030700,
          1033800,
          1030600
         ],
         "yaxis": "y"
        }
       ],
       "layout": {
        "height": 600,
        "legend": {
         "tracegroupgap": 0
        },
        "margin": {
         "t": 60
        },
        "template": {
         "data": {
          "bar": [
           {
            "error_x": {
             "color": "#2a3f5f"
            },
            "error_y": {
             "color": "#2a3f5f"
            },
            "marker": {
             "line": {
              "color": "#E5ECF6",
              "width": 0.5
             }
            },
            "type": "bar"
           }
          ],
          "barpolar": [
           {
            "marker": {
             "line": {
              "color": "#E5ECF6",
              "width": 0.5
             }
            },
            "type": "barpolar"
           }
          ],
          "carpet": [
           {
            "aaxis": {
             "endlinecolor": "#2a3f5f",
             "gridcolor": "white",
             "linecolor": "white",
             "minorgridcolor": "white",
             "startlinecolor": "#2a3f5f"
            },
            "baxis": {
             "endlinecolor": "#2a3f5f",
             "gridcolor": "white",
             "linecolor": "white",
             "minorgridcolor": "white",
             "startlinecolor": "#2a3f5f"
            },
            "type": "carpet"
           }
          ],
          "choropleth": [
           {
            "colorbar": {
             "outlinewidth": 0,
             "ticks": ""
            },
            "type": "choropleth"
           }
          ],
          "contour": [
           {
            "colorbar": {
             "outlinewidth": 0,
             "ticks": ""
            },
            "colorscale": [
             [
              0,
              "#0d0887"
             ],
             [
              0.1111111111111111,
              "#46039f"
             ],
             [
              0.2222222222222222,
              "#7201a8"
             ],
             [
              0.3333333333333333,
              "#9c179e"
             ],
             [
              0.4444444444444444,
              "#bd3786"
             ],
             [
              0.5555555555555556,
              "#d8576b"
             ],
             [
              0.6666666666666666,
              "#ed7953"
             ],
             [
              0.7777777777777778,
              "#fb9f3a"
             ],
             [
              0.8888888888888888,
              "#fdca26"
             ],
             [
              1,
              "#f0f921"
             ]
            ],
            "type": "contour"
           }
          ],
          "contourcarpet": [
           {
            "colorbar": {
             "outlinewidth": 0,
             "ticks": ""
            },
            "type": "contourcarpet"
           }
          ],
          "heatmap": [
           {
            "colorbar": {
             "outlinewidth": 0,
             "ticks": ""
            },
            "colorscale": [
             [
              0,
              "#0d0887"
             ],
             [
              0.1111111111111111,
              "#46039f"
             ],
             [
              0.2222222222222222,
              "#7201a8"
             ],
             [
              0.3333333333333333,
              "#9c179e"
             ],
             [
              0.4444444444444444,
              "#bd3786"
             ],
             [
              0.5555555555555556,
              "#d8576b"
             ],
             [
              0.6666666666666666,
              "#ed7953"
             ],
             [
              0.7777777777777778,
              "#fb9f3a"
             ],
             [
              0.8888888888888888,
              "#fdca26"
             ],
             [
              1,
              "#f0f921"
             ]
            ],
            "type": "heatmap"
           }
          ],
          "heatmapgl": [
           {
            "colorbar": {
             "outlinewidth": 0,
             "ticks": ""
            },
            "colorscale": [
             [
              0,
              "#0d0887"
             ],
             [
              0.1111111111111111,
              "#46039f"
             ],
             [
              0.2222222222222222,
              "#7201a8"
             ],
             [
              0.3333333333333333,
              "#9c179e"
             ],
             [
              0.4444444444444444,
              "#bd3786"
             ],
             [
              0.5555555555555556,
              "#d8576b"
             ],
             [
              0.6666666666666666,
              "#ed7953"
             ],
             [
              0.7777777777777778,
              "#fb9f3a"
             ],
             [
              0.8888888888888888,
              "#fdca26"
             ],
             [
              1,
              "#f0f921"
             ]
            ],
            "type": "heatmapgl"
           }
          ],
          "histogram": [
           {
            "marker": {
             "colorbar": {
              "outlinewidth": 0,
              "ticks": ""
             }
            },
            "type": "histogram"
           }
          ],
          "histogram2d": [
           {
            "colorbar": {
             "outlinewidth": 0,
             "ticks": ""
            },
            "colorscale": [
             [
              0,
              "#0d0887"
             ],
             [
              0.1111111111111111,
              "#46039f"
             ],
             [
              0.2222222222222222,
              "#7201a8"
             ],
             [
              0.3333333333333333,
              "#9c179e"
             ],
             [
              0.4444444444444444,
              "#bd3786"
             ],
             [
              0.5555555555555556,
              "#d8576b"
             ],
             [
              0.6666666666666666,
              "#ed7953"
             ],
             [
              0.7777777777777778,
              "#fb9f3a"
             ],
             [
              0.8888888888888888,
              "#fdca26"
             ],
             [
              1,
              "#f0f921"
             ]
            ],
            "type": "histogram2d"
           }
          ],
          "histogram2dcontour": [
           {
            "colorbar": {
             "outlinewidth": 0,
             "ticks": ""
            },
            "colorscale": [
             [
              0,
              "#0d0887"
             ],
             [
              0.1111111111111111,
              "#46039f"
             ],
             [
              0.2222222222222222,
              "#7201a8"
             ],
             [
              0.3333333333333333,
              "#9c179e"
             ],
             [
              0.4444444444444444,
              "#bd3786"
             ],
             [
              0.5555555555555556,
              "#d8576b"
             ],
             [
              0.6666666666666666,
              "#ed7953"
             ],
             [
              0.7777777777777778,
              "#fb9f3a"
             ],
             [
              0.8888888888888888,
              "#fdca26"
             ],
             [
              1,
              "#f0f921"
             ]
            ],
            "type": "histogram2dcontour"
           }
          ],
          "mesh3d": [
           {
            "colorbar": {
             "outlinewidth": 0,
             "ticks": ""
            },
            "type": "mesh3d"
           }
          ],
          "parcoords": [
           {
            "line": {
             "colorbar": {
              "outlinewidth": 0,
              "ticks": ""
             }
            },
            "type": "parcoords"
           }
          ],
          "scatter": [
           {
            "marker": {
             "colorbar": {
              "outlinewidth": 0,
              "ticks": ""
             }
            },
            "type": "scatter"
           }
          ],
          "scatter3d": [
           {
            "line": {
             "colorbar": {
              "outlinewidth": 0,
              "ticks": ""
             }
            },
            "marker": {
             "colorbar": {
              "outlinewidth": 0,
              "ticks": ""
             }
            },
            "type": "scatter3d"
           }
          ],
          "scattercarpet": [
           {
            "marker": {
             "colorbar": {
              "outlinewidth": 0,
              "ticks": ""
             }
            },
            "type": "scattercarpet"
           }
          ],
          "scattergeo": [
           {
            "marker": {
             "colorbar": {
              "outlinewidth": 0,
              "ticks": ""
             }
            },
            "type": "scattergeo"
           }
          ],
          "scattergl": [
           {
            "marker": {
             "colorbar": {
              "outlinewidth": 0,
              "ticks": ""
             }
            },
            "type": "scattergl"
           }
          ],
          "scattermapbox": [
           {
            "marker": {
             "colorbar": {
              "outlinewidth": 0,
              "ticks": ""
             }
            },
            "type": "scattermapbox"
           }
          ],
          "scatterpolar": [
           {
            "marker": {
             "colorbar": {
              "outlinewidth": 0,
              "ticks": ""
             }
            },
            "type": "scatterpolar"
           }
          ],
          "scatterpolargl": [
           {
            "marker": {
             "colorbar": {
              "outlinewidth": 0,
              "ticks": ""
             }
            },
            "type": "scatterpolargl"
           }
          ],
          "scatterternary": [
           {
            "marker": {
             "colorbar": {
              "outlinewidth": 0,
              "ticks": ""
             }
            },
            "type": "scatterternary"
           }
          ],
          "surface": [
           {
            "colorbar": {
             "outlinewidth": 0,
             "ticks": ""
            },
            "colorscale": [
             [
              0,
              "#0d0887"
             ],
             [
              0.1111111111111111,
              "#46039f"
             ],
             [
              0.2222222222222222,
              "#7201a8"
             ],
             [
              0.3333333333333333,
              "#9c179e"
             ],
             [
              0.4444444444444444,
              "#bd3786"
             ],
             [
              0.5555555555555556,
              "#d8576b"
             ],
             [
              0.6666666666666666,
              "#ed7953"
             ],
             [
              0.7777777777777778,
              "#fb9f3a"
             ],
             [
              0.8888888888888888,
              "#fdca26"
             ],
             [
              1,
              "#f0f921"
             ]
            ],
            "type": "surface"
           }
          ],
          "table": [
           {
            "cells": {
             "fill": {
              "color": "#EBF0F8"
             },
             "line": {
              "color": "white"
             }
            },
            "header": {
             "fill": {
              "color": "#C8D4E3"
             },
             "line": {
              "color": "white"
             }
            },
            "type": "table"
           }
          ]
         },
         "layout": {
          "annotationdefaults": {
           "arrowcolor": "#2a3f5f",
           "arrowhead": 0,
           "arrowwidth": 1
          },
          "colorscale": {
           "diverging": [
            [
             0,
             "#8e0152"
            ],
            [
             0.1,
             "#c51b7d"
            ],
            [
             0.2,
             "#de77ae"
            ],
            [
             0.3,
             "#f1b6da"
            ],
            [
             0.4,
             "#fde0ef"
            ],
            [
             0.5,
             "#f7f7f7"
            ],
            [
             0.6,
             "#e6f5d0"
            ],
            [
             0.7,
             "#b8e186"
            ],
            [
             0.8,
             "#7fbc41"
            ],
            [
             0.9,
             "#4d9221"
            ],
            [
             1,
             "#276419"
            ]
           ],
           "sequential": [
            [
             0,
             "#0d0887"
            ],
            [
             0.1111111111111111,
             "#46039f"
            ],
            [
             0.2222222222222222,
             "#7201a8"
            ],
            [
             0.3333333333333333,
             "#9c179e"
            ],
            [
             0.4444444444444444,
             "#bd3786"
            ],
            [
             0.5555555555555556,
             "#d8576b"
            ],
            [
             0.6666666666666666,
             "#ed7953"
            ],
            [
             0.7777777777777778,
             "#fb9f3a"
            ],
            [
             0.8888888888888888,
             "#fdca26"
            ],
            [
             1,
             "#f0f921"
            ]
           ],
           "sequentialminus": [
            [
             0,
             "#0d0887"
            ],
            [
             0.1111111111111111,
             "#46039f"
            ],
            [
             0.2222222222222222,
             "#7201a8"
            ],
            [
             0.3333333333333333,
             "#9c179e"
            ],
            [
             0.4444444444444444,
             "#bd3786"
            ],
            [
             0.5555555555555556,
             "#d8576b"
            ],
            [
             0.6666666666666666,
             "#ed7953"
            ],
            [
             0.7777777777777778,
             "#fb9f3a"
            ],
            [
             0.8888888888888888,
             "#fdca26"
            ],
            [
             1,
             "#f0f921"
            ]
           ]
          },
          "colorway": [
           "#636efa",
           "#EF553B",
           "#00cc96",
           "#ab63fa",
           "#FFA15A",
           "#19d3f3",
           "#FF6692",
           "#B6E880",
           "#FF97FF",
           "#FECB52"
          ],
          "font": {
           "color": "#2a3f5f"
          },
          "geo": {
           "bgcolor": "white",
           "lakecolor": "white",
           "landcolor": "#E5ECF6",
           "showlakes": true,
           "showland": true,
           "subunitcolor": "white"
          },
          "hoverlabel": {
           "align": "left"
          },
          "hovermode": "closest",
          "mapbox": {
           "style": "light"
          },
          "paper_bgcolor": "white",
          "plot_bgcolor": "#E5ECF6",
          "polar": {
           "angularaxis": {
            "gridcolor": "white",
            "linecolor": "white",
            "ticks": ""
           },
           "bgcolor": "#E5ECF6",
           "radialaxis": {
            "gridcolor": "white",
            "linecolor": "white",
            "ticks": ""
           }
          },
          "scene": {
           "xaxis": {
            "backgroundcolor": "#E5ECF6",
            "gridcolor": "white",
            "gridwidth": 2,
            "linecolor": "white",
            "showbackground": true,
            "ticks": "",
            "zerolinecolor": "white"
           },
           "yaxis": {
            "backgroundcolor": "#E5ECF6",
            "gridcolor": "white",
            "gridwidth": 2,
            "linecolor": "white",
            "showbackground": true,
            "ticks": "",
            "zerolinecolor": "white"
           },
           "zaxis": {
            "backgroundcolor": "#E5ECF6",
            "gridcolor": "white",
            "gridwidth": 2,
            "linecolor": "white",
            "showbackground": true,
            "ticks": "",
            "zerolinecolor": "white"
           }
          },
          "shapedefaults": {
           "line": {
            "color": "#2a3f5f"
           }
          },
          "ternary": {
           "aaxis": {
            "gridcolor": "white",
            "linecolor": "white",
            "ticks": ""
           },
           "baxis": {
            "gridcolor": "white",
            "linecolor": "white",
            "ticks": ""
           },
           "bgcolor": "#E5ECF6",
           "caxis": {
            "gridcolor": "white",
            "linecolor": "white",
            "ticks": ""
           }
          },
          "title": {
           "x": 0.05
          },
          "xaxis": {
           "automargin": true,
           "gridcolor": "white",
           "linecolor": "white",
           "ticks": "",
           "zerolinecolor": "white",
           "zerolinewidth": 2
          },
          "yaxis": {
           "automargin": true,
           "gridcolor": "white",
           "linecolor": "white",
           "ticks": "",
           "zerolinecolor": "white",
           "zerolinewidth": 2
          }
         }
        },
        "xaxis": {
         "anchor": "y",
         "domain": [
          0,
          0.98
         ],
         "title": {
          "text": "time"
         }
        },
        "yaxis": {
         "anchor": "x",
         "domain": [
          0,
          1
         ],
         "title": {
          "text": "value"
         }
        }
       }
      },
      "text/html": [
       "<div>\n",
       "        \n",
       "        \n",
       "            <div id=\"db149533-1182-4bf7-82f2-0083e072ee43\" class=\"plotly-graph-div\" style=\"height:600px; width:100%;\"></div>\n",
       "            <script type=\"text/javascript\">\n",
       "                require([\"plotly\"], function(Plotly) {\n",
       "                    window.PLOTLYENV=window.PLOTLYENV || {};\n",
       "                    \n",
       "                if (document.getElementById(\"db149533-1182-4bf7-82f2-0083e072ee43\")) {\n",
       "                    Plotly.newPlot(\n",
       "                        'db149533-1182-4bf7-82f2-0083e072ee43',\n",
       "                        [{\"hoverlabel\": {\"namelength\": 0}, \"hovertemplate\": \"<b>%{hovertext}</b><br><br>time=%{x}<br>value=%{y}\", \"hovertext\": [60657.0, 60657.0, 60657.0, 60657.0, 60657.0, 60657.0, 60657.0, 60657.0, 60657.0, 60657.0, 60657.0, 60657.0, 60657.0, 60657.0, 60657.0, 60657.0, 60657.0, 60657.0, 60657.0, 60657.0, 60657.0, 60657.0, 60657.0, 60657.0, 60657.0, 60657.0, 60657.0, 60657.0, 60657.0, 60657.0, 60657.0, 60657.0, 60657.0, 60657.0, 60657.0, 60657.0, 60657.0, 60657.0, 60657.0, 60657.0, 60657.0, 60657.0, 60657.0, 60657.0, 60657.0, 60657.0, 60657.0, 60657.0, 60657.0, 60657.0, 60657.0, 60657.0, 60657.0, 60657.0, 60657.0, 60657.0, 60657.0, 60657.0, 60657.0, 60657.0, 60657.0, 60657.0, 60657.0, 60657.0, 60657.0, 60657.0, 60657.0, 60657.0, 60657.0, 60657.0, 60657.0, 60657.0, 60657.0, 60657.0, 60657.0, 60657.0, 60657.0, 60657.0, 60657.0, 60657.0, 60657.0, 60657.0, 60657.0, 60657.0, 60657.0, 60657.0, 60657.0, 60657.0, 60657.0, 60657.0, 60657.0, 60657.0, 60657.0, 60657.0, 60657.0, 60657.0, 60657.0, 60657.0, 60657.0, 60657.0, 60657.0, 60657.0, 60657.0, 60657.0, 60657.0, 60657.0, 60657.0, 60657.0, 60657.0, 60657.0, 60657.0, 60657.0, 60657.0, 60657.0, 60657.0, 60657.0, 60657.0, 60657.0, 60657.0, 60657.0, 60657.0, 60657.0, 60657.0, 60657.0, 60657.0, 60657.0, 60657.0, 60657.0, 60657.0, 60657.0, 60657.0, 60657.0, 60657.0, 60657.0, 60657.0, 60657.0, 60657.0, 60657.0, 60657.0, 60657.0, 60657.0, 60657.0, 60657.0, 60657.0, 60657.0, 60657.0, 60657.0, 60657.0, 60657.0, 60657.0, 60657.0, 60657.0, 60657.0, 60657.0, 60657.0, 60657.0, 60657.0, 60657.0, 60657.0, 60657.0, 60657.0, 60657.0, 60657.0, 60657.0, 60657.0, 60657.0, 60657.0, 60657.0, 60657.0, 60657.0, 60657.0, 60657.0, 60657.0, 60657.0, 60657.0, 60657.0, 60657.0, 60657.0, 60657.0, 60657.0, 60657.0, 60657.0, 60657.0, 60657.0, 60657.0, 60657.0, 60657.0, 60657.0, 60657.0, 60657.0, 60657.0, 60657.0, 60657.0, 60657.0, 60657.0, 60657.0, 60657.0, 60657.0, 60657.0, 60657.0, 60657.0, 60657.0, 60657.0, 60657.0, 60657.0, 60657.0, 60657.0, 60657.0, 60657.0, 60657.0, 60657.0, 60657.0, 60657.0, 60657.0, 60657.0, 60657.0, 60657.0, 60657.0, 60657.0, 60657.0, 60657.0, 60657.0, 60657.0, 60657.0, 60657.0, 60657.0, 60657.0, 60657.0, 60657.0, 60657.0, 60657.0, 60657.0, 60657.0, 60657.0, 60657.0, 60657.0, 60657.0, 60657.0, 60657.0, 60657.0, 60657.0, 60657.0, 60657.0, 60657.0, 60657.0, 60657.0, 60657.0, 60657.0, 60657.0, 60657.0, 60657.0, 60657.0, 60657.0, 60657.0, 60657.0, 60657.0, 60657.0, 60657.0, 60657.0, 60657.0, 60657.0, 60657.0, 60657.0, 60657.0, 60657.0], \"legendgroup\": \"\", \"line\": {\"color\": \"#636efa\", \"dash\": \"solid\"}, \"mode\": \"lines\", \"name\": \"\", \"showlegend\": false, \"type\": \"scatter\", \"x\": [\"1996-04-01T00:00:00\", \"1996-05-01T00:00:00\", \"1996-06-01T00:00:00\", \"1996-07-01T00:00:00\", \"1996-08-01T00:00:00\", \"1996-09-01T00:00:00\", \"1996-10-01T00:00:00\", \"1996-11-01T00:00:00\", \"1996-12-01T00:00:00\", \"1997-01-01T00:00:00\", \"1997-02-01T00:00:00\", \"1997-03-01T00:00:00\", \"1997-04-01T00:00:00\", \"1997-05-01T00:00:00\", \"1997-06-01T00:00:00\", \"1997-07-01T00:00:00\", \"1997-08-01T00:00:00\", \"1997-09-01T00:00:00\", \"1997-10-01T00:00:00\", \"1997-11-01T00:00:00\", \"1997-12-01T00:00:00\", \"1998-01-01T00:00:00\", \"1998-02-01T00:00:00\", \"1998-03-01T00:00:00\", \"1998-04-01T00:00:00\", \"1998-05-01T00:00:00\", \"1998-06-01T00:00:00\", \"1998-07-01T00:00:00\", \"1998-08-01T00:00:00\", \"1998-09-01T00:00:00\", \"1998-10-01T00:00:00\", \"1998-11-01T00:00:00\", \"1998-12-01T00:00:00\", \"1999-01-01T00:00:00\", \"1999-02-01T00:00:00\", \"1999-03-01T00:00:00\", \"1999-04-01T00:00:00\", \"1999-05-01T00:00:00\", \"1999-06-01T00:00:00\", \"1999-07-01T00:00:00\", \"1999-08-01T00:00:00\", \"1999-09-01T00:00:00\", \"1999-10-01T00:00:00\", \"1999-11-01T00:00:00\", \"1999-12-01T00:00:00\", \"2000-01-01T00:00:00\", \"2000-02-01T00:00:00\", \"2000-03-01T00:00:00\", \"2000-04-01T00:00:00\", \"2000-05-01T00:00:00\", \"2000-06-01T00:00:00\", \"2000-07-01T00:00:00\", \"2000-08-01T00:00:00\", \"2000-09-01T00:00:00\", \"2000-10-01T00:00:00\", \"2000-11-01T00:00:00\", \"2000-12-01T00:00:00\", \"2001-01-01T00:00:00\", \"2001-02-01T00:00:00\", \"2001-03-01T00:00:00\", \"2001-04-01T00:00:00\", \"2001-05-01T00:00:00\", \"2001-06-01T00:00:00\", \"2001-07-01T00:00:00\", \"2001-08-01T00:00:00\", \"2001-09-01T00:00:00\", \"2001-10-01T00:00:00\", \"2001-11-01T00:00:00\", \"2001-12-01T00:00:00\", \"2002-01-01T00:00:00\", \"2002-02-01T00:00:00\", \"2002-03-01T00:00:00\", \"2002-04-01T00:00:00\", \"2002-05-01T00:00:00\", \"2002-06-01T00:00:00\", \"2002-07-01T00:00:00\", \"2002-08-01T00:00:00\", \"2002-09-01T00:00:00\", \"2002-10-01T00:00:00\", \"2002-11-01T00:00:00\", \"2002-12-01T00:00:00\", \"2003-01-01T00:00:00\", \"2003-02-01T00:00:00\", \"2003-03-01T00:00:00\", \"2003-04-01T00:00:00\", \"2003-05-01T00:00:00\", \"2003-06-01T00:00:00\", \"2003-07-01T00:00:00\", \"2003-08-01T00:00:00\", \"2003-09-01T00:00:00\", \"2003-10-01T00:00:00\", \"2003-11-01T00:00:00\", \"2003-12-01T00:00:00\", \"2004-01-01T00:00:00\", \"2004-02-01T00:00:00\", \"2004-03-01T00:00:00\", \"2004-04-01T00:00:00\", \"2004-05-01T00:00:00\", \"2004-06-01T00:00:00\", \"2004-07-01T00:00:00\", \"2004-08-01T00:00:00\", \"2004-09-01T00:00:00\", \"2004-10-01T00:00:00\", \"2004-11-01T00:00:00\", \"2004-12-01T00:00:00\", \"2005-01-01T00:00:00\", \"2005-02-01T00:00:00\", \"2005-03-01T00:00:00\", \"2005-04-01T00:00:00\", \"2005-05-01T00:00:00\", \"2005-06-01T00:00:00\", \"2005-07-01T00:00:00\", \"2005-08-01T00:00:00\", \"2005-09-01T00:00:00\", \"2005-10-01T00:00:00\", \"2005-11-01T00:00:00\", \"2005-12-01T00:00:00\", \"2006-01-01T00:00:00\", \"2006-02-01T00:00:00\", \"2006-03-01T00:00:00\", \"2006-04-01T00:00:00\", \"2006-05-01T00:00:00\", \"2006-06-01T00:00:00\", \"2006-07-01T00:00:00\", \"2006-08-01T00:00:00\", \"2006-09-01T00:00:00\", \"2006-10-01T00:00:00\", \"2006-11-01T00:00:00\", \"2006-12-01T00:00:00\", \"2007-01-01T00:00:00\", \"2007-02-01T00:00:00\", \"2007-03-01T00:00:00\", \"2007-04-01T00:00:00\", \"2007-05-01T00:00:00\", \"2007-06-01T00:00:00\", \"2007-07-01T00:00:00\", \"2007-08-01T00:00:00\", \"2007-09-01T00:00:00\", \"2007-10-01T00:00:00\", \"2007-11-01T00:00:00\", \"2007-12-01T00:00:00\", \"2008-01-01T00:00:00\", \"2008-02-01T00:00:00\", \"2008-03-01T00:00:00\", \"2008-04-01T00:00:00\", \"2008-05-01T00:00:00\", \"2008-06-01T00:00:00\", \"2008-07-01T00:00:00\", \"2008-08-01T00:00:00\", \"2008-09-01T00:00:00\", \"2008-10-01T00:00:00\", \"2008-11-01T00:00:00\", \"2008-12-01T00:00:00\", \"2009-01-01T00:00:00\", \"2009-02-01T00:00:00\", \"2009-03-01T00:00:00\", \"2009-04-01T00:00:00\", \"2009-05-01T00:00:00\", \"2009-06-01T00:00:00\", \"2009-07-01T00:00:00\", \"2009-08-01T00:00:00\", \"2009-09-01T00:00:00\", \"2009-10-01T00:00:00\", \"2009-11-01T00:00:00\", \"2009-12-01T00:00:00\", \"2010-01-01T00:00:00\", \"2010-02-01T00:00:00\", \"2010-03-01T00:00:00\", \"2010-04-01T00:00:00\", \"2010-05-01T00:00:00\", \"2010-06-01T00:00:00\", \"2010-07-01T00:00:00\", \"2010-08-01T00:00:00\", \"2010-09-01T00:00:00\", \"2010-10-01T00:00:00\", \"2010-11-01T00:00:00\", \"2010-12-01T00:00:00\", \"2011-01-01T00:00:00\", \"2011-02-01T00:00:00\", \"2011-03-01T00:00:00\", \"2011-04-01T00:00:00\", \"2011-05-01T00:00:00\", \"2011-06-01T00:00:00\", \"2011-07-01T00:00:00\", \"2011-08-01T00:00:00\", \"2011-09-01T00:00:00\", \"2011-10-01T00:00:00\", \"2011-11-01T00:00:00\", \"2011-12-01T00:00:00\", \"2012-01-01T00:00:00\", \"2012-02-01T00:00:00\", \"2012-03-01T00:00:00\", \"2012-04-01T00:00:00\", \"2012-05-01T00:00:00\", \"2012-06-01T00:00:00\", \"2012-07-01T00:00:00\", \"2012-08-01T00:00:00\", \"2012-09-01T00:00:00\", \"2012-10-01T00:00:00\", \"2012-11-01T00:00:00\", \"2012-12-01T00:00:00\", \"2013-01-01T00:00:00\", \"2013-02-01T00:00:00\", \"2013-03-01T00:00:00\", \"2013-04-01T00:00:00\", \"2013-05-01T00:00:00\", \"2013-06-01T00:00:00\", \"2013-07-01T00:00:00\", \"2013-08-01T00:00:00\", \"2013-09-01T00:00:00\", \"2013-10-01T00:00:00\", \"2013-11-01T00:00:00\", \"2013-12-01T00:00:00\", \"2014-01-01T00:00:00\", \"2014-02-01T00:00:00\", \"2014-03-01T00:00:00\", \"2014-04-01T00:00:00\", \"2014-05-01T00:00:00\", \"2014-06-01T00:00:00\", \"2014-07-01T00:00:00\", \"2014-08-01T00:00:00\", \"2014-09-01T00:00:00\", \"2014-10-01T00:00:00\", \"2014-11-01T00:00:00\", \"2014-12-01T00:00:00\", \"2015-01-01T00:00:00\", \"2015-02-01T00:00:00\", \"2015-03-01T00:00:00\", \"2015-04-01T00:00:00\", \"2015-05-01T00:00:00\", \"2015-06-01T00:00:00\", \"2015-07-01T00:00:00\", \"2015-08-01T00:00:00\", \"2015-09-01T00:00:00\", \"2015-10-01T00:00:00\", \"2015-11-01T00:00:00\", \"2015-12-01T00:00:00\", \"2016-01-01T00:00:00\", \"2016-02-01T00:00:00\", \"2016-03-01T00:00:00\", \"2016-04-01T00:00:00\", \"2016-05-01T00:00:00\", \"2016-06-01T00:00:00\", \"2016-07-01T00:00:00\", \"2016-08-01T00:00:00\", \"2016-09-01T00:00:00\", \"2016-10-01T00:00:00\", \"2016-11-01T00:00:00\", \"2016-12-01T00:00:00\", \"2017-01-01T00:00:00\", \"2017-02-01T00:00:00\", \"2017-03-01T00:00:00\", \"2017-04-01T00:00:00\", \"2017-05-01T00:00:00\", \"2017-06-01T00:00:00\", \"2017-07-01T00:00:00\", \"2017-08-01T00:00:00\", \"2017-09-01T00:00:00\", \"2017-10-01T00:00:00\", \"2017-11-01T00:00:00\", \"2017-12-01T00:00:00\", \"2018-01-01T00:00:00\", \"2018-02-01T00:00:00\", \"2018-03-01T00:00:00\", \"2018-04-01T00:00:00\"], \"xaxis\": \"x\", \"y\": [334200.0, 335400.0, 336500.0, 337600.0, 338500.0, 339500.0, 340400.0, 341300.0, 342600.0, 344400.0, 345700.0, 346700.0, 347800.0, 349000.0, 350400.0, 352000.0, 353900.0, 356200.0, 358800.0, 361800.0, 365700.0, 370200.0, 374700.0, 378900.0, 383500.0, 388300.0, 393300.0, 398500.0, 403800.0, 409100.0, 414600.0, 420100.0, 426200.0, 432600.0, 438600.0, 444200.0, 450000.0, 455900.0, 462100.0, 468500.0, 475300.0, 482500.0, 490200.0, 498200.0, 507200.0, 516800.0, 526300.0, 535300.0, 544500.0, 553500.0, 562400.0, 571200.0, 579800.0, 588100.0, 596300.0, 604200.0, 612200.0, 620200.0, 627700.0, 634500.0, 641000.0, 647000.0, 652700.0, 658100.0, 663300.0, 668400.0, 673400.0, 678300.0, 683200.0, 688300.0, 693300.0, 698000.0, 702400.0, 706400.0, 710200.0, 714000.0, 717800.0, 721700.0, 725700.0, 729900.0, 733400.0, 735600.0, 737200.0, 739000.0, 740900.0, 742700.0, 744400.0, 746000.0, 747200.0, 748000.0, 749000.0, 750200.0, 752300.0, 755300.0, 759200.0, 764000.0, 769600.0, 775600.0, 781900.0, 787900.0, 793200.0, 798200.0, 803100.0, 807900.0, 812900.0, 818100.0, 823100.0, 828300.0, 834100.0, 839800.0, 845600.0, 851800.0, 858000.0, 864400.0, 870700.0, 876200.0, 880700.0, 884400.0, 887600.0, 890500.0, 893300.0, 895500.0, 897300.0, 899000.0, 900400.0, 902000.0, 904400.0, 907100.0, 909700.0, 911900.0, 913000.0, 913000.0, 912000.0, 909300.0, 905300.0, 901400.0, 897900.0, 895400.0, 893600.0, 891100.0, 887000.0, 881700.0, 875900.0, 870300.0, 865100.0, 859000.0, 851500.0, 843800.0, 836400.0, 830700.0, 827300.0, 824800.0, 821600.0, 818300.0, 814600.0, 809800.0, 803600.0, 795500.0, 786900.0, 780700.0, 776900.0, 774700.0, 774200.0, 774400.0, 774600.0, 775600.0, 777800.0, 775200.0, 767900.0, 764700.0, 766100.0, 764100.0, 759700.0, 754900.0, 746200.0, 737300.0, 730800.0, 729300.0, 730200.0, 730700.0, 730000.0, 730100.0, 730100.0, 731200.0, 733900.0, 735500.0, 735400.0, 734400.0, 737500.0, 737700.0, 733700.0, 734000.0, 740300.0, 744600.0, 750500.0, 760400.0, 771800.0, 780600.0, 787900.0, 794100.0, 798900.0, 802300.0, 806100.0, 810900.0, 817400.0, 826800.0, 837900.0, 848100.0, 853800.0, 856700.0, 856600.0, 854400.0, 853000.0, 856200.0, 859700.0, 863900.0, 872900.0, 883300.0, 889500.0, 892800.0, 893600.0, 891300.0, 889900.0, 891500.0, 893000.0, 893000.0, 895000.0, 901200.0, 909400.0, 915000.0, 916700.0, 917700.0, 919800.0, 925800.0, 937100.0, 948200.0, 951000.0, 952500.0, 958600.0, 966200.0, 970400.0, 973900.0, 974700.0, 972600.0, 974300.0, 980800.0, 988000.0, 994700.0, 998700.0, 997000.0, 993700.0, 991300.0, 989200.0, 991300.0, 999100.0, 1005500.0, 1007500.0, 1007800.0, 1009600.0, 1013300.0, 1018700.0, 1024400.0, 1030700.0, 1033800.0, 1030600.0], \"yaxis\": \"y\"}],\n",
       "                        {\"height\": 600, \"legend\": {\"tracegroupgap\": 0}, \"margin\": {\"t\": 60}, \"template\": {\"data\": {\"bar\": [{\"error_x\": {\"color\": \"#2a3f5f\"}, \"error_y\": {\"color\": \"#2a3f5f\"}, \"marker\": {\"line\": {\"color\": \"#E5ECF6\", \"width\": 0.5}}, \"type\": \"bar\"}], \"barpolar\": [{\"marker\": {\"line\": {\"color\": \"#E5ECF6\", \"width\": 0.5}}, \"type\": \"barpolar\"}], \"carpet\": [{\"aaxis\": {\"endlinecolor\": \"#2a3f5f\", \"gridcolor\": \"white\", \"linecolor\": \"white\", \"minorgridcolor\": \"white\", \"startlinecolor\": \"#2a3f5f\"}, \"baxis\": {\"endlinecolor\": \"#2a3f5f\", \"gridcolor\": \"white\", \"linecolor\": \"white\", \"minorgridcolor\": \"white\", \"startlinecolor\": \"#2a3f5f\"}, \"type\": \"carpet\"}], \"choropleth\": [{\"colorbar\": {\"outlinewidth\": 0, \"ticks\": \"\"}, \"type\": \"choropleth\"}], \"contour\": [{\"colorbar\": {\"outlinewidth\": 0, \"ticks\": \"\"}, \"colorscale\": [[0.0, \"#0d0887\"], [0.1111111111111111, \"#46039f\"], [0.2222222222222222, \"#7201a8\"], [0.3333333333333333, \"#9c179e\"], [0.4444444444444444, \"#bd3786\"], [0.5555555555555556, \"#d8576b\"], [0.6666666666666666, \"#ed7953\"], [0.7777777777777778, \"#fb9f3a\"], [0.8888888888888888, \"#fdca26\"], [1.0, \"#f0f921\"]], \"type\": \"contour\"}], \"contourcarpet\": [{\"colorbar\": {\"outlinewidth\": 0, \"ticks\": \"\"}, \"type\": \"contourcarpet\"}], \"heatmap\": [{\"colorbar\": {\"outlinewidth\": 0, \"ticks\": \"\"}, \"colorscale\": [[0.0, \"#0d0887\"], [0.1111111111111111, \"#46039f\"], [0.2222222222222222, \"#7201a8\"], [0.3333333333333333, \"#9c179e\"], [0.4444444444444444, \"#bd3786\"], [0.5555555555555556, \"#d8576b\"], [0.6666666666666666, \"#ed7953\"], [0.7777777777777778, \"#fb9f3a\"], [0.8888888888888888, \"#fdca26\"], [1.0, \"#f0f921\"]], \"type\": \"heatmap\"}], \"heatmapgl\": [{\"colorbar\": {\"outlinewidth\": 0, \"ticks\": \"\"}, \"colorscale\": [[0.0, \"#0d0887\"], [0.1111111111111111, \"#46039f\"], [0.2222222222222222, \"#7201a8\"], [0.3333333333333333, \"#9c179e\"], [0.4444444444444444, \"#bd3786\"], [0.5555555555555556, \"#d8576b\"], [0.6666666666666666, \"#ed7953\"], [0.7777777777777778, \"#fb9f3a\"], [0.8888888888888888, \"#fdca26\"], [1.0, \"#f0f921\"]], \"type\": \"heatmapgl\"}], \"histogram\": [{\"marker\": {\"colorbar\": {\"outlinewidth\": 0, \"ticks\": \"\"}}, \"type\": \"histogram\"}], \"histogram2d\": [{\"colorbar\": {\"outlinewidth\": 0, \"ticks\": \"\"}, \"colorscale\": [[0.0, \"#0d0887\"], [0.1111111111111111, \"#46039f\"], [0.2222222222222222, \"#7201a8\"], [0.3333333333333333, \"#9c179e\"], [0.4444444444444444, \"#bd3786\"], [0.5555555555555556, \"#d8576b\"], [0.6666666666666666, \"#ed7953\"], [0.7777777777777778, \"#fb9f3a\"], [0.8888888888888888, \"#fdca26\"], [1.0, \"#f0f921\"]], \"type\": \"histogram2d\"}], \"histogram2dcontour\": [{\"colorbar\": {\"outlinewidth\": 0, \"ticks\": \"\"}, \"colorscale\": [[0.0, \"#0d0887\"], [0.1111111111111111, \"#46039f\"], [0.2222222222222222, \"#7201a8\"], [0.3333333333333333, \"#9c179e\"], [0.4444444444444444, \"#bd3786\"], [0.5555555555555556, \"#d8576b\"], [0.6666666666666666, \"#ed7953\"], [0.7777777777777778, \"#fb9f3a\"], [0.8888888888888888, \"#fdca26\"], [1.0, \"#f0f921\"]], \"type\": \"histogram2dcontour\"}], \"mesh3d\": [{\"colorbar\": {\"outlinewidth\": 0, \"ticks\": \"\"}, \"type\": \"mesh3d\"}], \"parcoords\": [{\"line\": {\"colorbar\": {\"outlinewidth\": 0, \"ticks\": \"\"}}, \"type\": \"parcoords\"}], \"scatter\": [{\"marker\": {\"colorbar\": {\"outlinewidth\": 0, \"ticks\": \"\"}}, \"type\": \"scatter\"}], \"scatter3d\": [{\"line\": {\"colorbar\": {\"outlinewidth\": 0, \"ticks\": \"\"}}, \"marker\": {\"colorbar\": {\"outlinewidth\": 0, \"ticks\": \"\"}}, \"type\": \"scatter3d\"}], \"scattercarpet\": [{\"marker\": {\"colorbar\": {\"outlinewidth\": 0, \"ticks\": \"\"}}, \"type\": \"scattercarpet\"}], \"scattergeo\": [{\"marker\": {\"colorbar\": {\"outlinewidth\": 0, \"ticks\": \"\"}}, \"type\": \"scattergeo\"}], \"scattergl\": [{\"marker\": {\"colorbar\": {\"outlinewidth\": 0, \"ticks\": \"\"}}, \"type\": \"scattergl\"}], \"scattermapbox\": [{\"marker\": {\"colorbar\": {\"outlinewidth\": 0, \"ticks\": \"\"}}, \"type\": \"scattermapbox\"}], \"scatterpolar\": [{\"marker\": {\"colorbar\": {\"outlinewidth\": 0, \"ticks\": \"\"}}, \"type\": \"scatterpolar\"}], \"scatterpolargl\": [{\"marker\": {\"colorbar\": {\"outlinewidth\": 0, \"ticks\": \"\"}}, \"type\": \"scatterpolargl\"}], \"scatterternary\": [{\"marker\": {\"colorbar\": {\"outlinewidth\": 0, \"ticks\": \"\"}}, \"type\": \"scatterternary\"}], \"surface\": [{\"colorbar\": {\"outlinewidth\": 0, \"ticks\": \"\"}, \"colorscale\": [[0.0, \"#0d0887\"], [0.1111111111111111, \"#46039f\"], [0.2222222222222222, \"#7201a8\"], [0.3333333333333333, \"#9c179e\"], [0.4444444444444444, \"#bd3786\"], [0.5555555555555556, \"#d8576b\"], [0.6666666666666666, \"#ed7953\"], [0.7777777777777778, \"#fb9f3a\"], [0.8888888888888888, \"#fdca26\"], [1.0, \"#f0f921\"]], \"type\": \"surface\"}], \"table\": [{\"cells\": {\"fill\": {\"color\": \"#EBF0F8\"}, \"line\": {\"color\": \"white\"}}, \"header\": {\"fill\": {\"color\": \"#C8D4E3\"}, \"line\": {\"color\": \"white\"}}, \"type\": \"table\"}]}, \"layout\": {\"annotationdefaults\": {\"arrowcolor\": \"#2a3f5f\", \"arrowhead\": 0, \"arrowwidth\": 1}, \"colorscale\": {\"diverging\": [[0, \"#8e0152\"], [0.1, \"#c51b7d\"], [0.2, \"#de77ae\"], [0.3, \"#f1b6da\"], [0.4, \"#fde0ef\"], [0.5, \"#f7f7f7\"], [0.6, \"#e6f5d0\"], [0.7, \"#b8e186\"], [0.8, \"#7fbc41\"], [0.9, \"#4d9221\"], [1, \"#276419\"]], \"sequential\": [[0.0, \"#0d0887\"], [0.1111111111111111, \"#46039f\"], [0.2222222222222222, \"#7201a8\"], [0.3333333333333333, \"#9c179e\"], [0.4444444444444444, \"#bd3786\"], [0.5555555555555556, \"#d8576b\"], [0.6666666666666666, \"#ed7953\"], [0.7777777777777778, \"#fb9f3a\"], [0.8888888888888888, \"#fdca26\"], [1.0, \"#f0f921\"]], \"sequentialminus\": [[0.0, \"#0d0887\"], [0.1111111111111111, \"#46039f\"], [0.2222222222222222, \"#7201a8\"], [0.3333333333333333, \"#9c179e\"], [0.4444444444444444, \"#bd3786\"], [0.5555555555555556, \"#d8576b\"], [0.6666666666666666, \"#ed7953\"], [0.7777777777777778, \"#fb9f3a\"], [0.8888888888888888, \"#fdca26\"], [1.0, \"#f0f921\"]]}, \"colorway\": [\"#636efa\", \"#EF553B\", \"#00cc96\", \"#ab63fa\", \"#FFA15A\", \"#19d3f3\", \"#FF6692\", \"#B6E880\", \"#FF97FF\", \"#FECB52\"], \"font\": {\"color\": \"#2a3f5f\"}, \"geo\": {\"bgcolor\": \"white\", \"lakecolor\": \"white\", \"landcolor\": \"#E5ECF6\", \"showlakes\": true, \"showland\": true, \"subunitcolor\": \"white\"}, \"hoverlabel\": {\"align\": \"left\"}, \"hovermode\": \"closest\", \"mapbox\": {\"style\": \"light\"}, \"paper_bgcolor\": \"white\", \"plot_bgcolor\": \"#E5ECF6\", \"polar\": {\"angularaxis\": {\"gridcolor\": \"white\", \"linecolor\": \"white\", \"ticks\": \"\"}, \"bgcolor\": \"#E5ECF6\", \"radialaxis\": {\"gridcolor\": \"white\", \"linecolor\": \"white\", \"ticks\": \"\"}}, \"scene\": {\"xaxis\": {\"backgroundcolor\": \"#E5ECF6\", \"gridcolor\": \"white\", \"gridwidth\": 2, \"linecolor\": \"white\", \"showbackground\": true, \"ticks\": \"\", \"zerolinecolor\": \"white\"}, \"yaxis\": {\"backgroundcolor\": \"#E5ECF6\", \"gridcolor\": \"white\", \"gridwidth\": 2, \"linecolor\": \"white\", \"showbackground\": true, \"ticks\": \"\", \"zerolinecolor\": \"white\"}, \"zaxis\": {\"backgroundcolor\": \"#E5ECF6\", \"gridcolor\": \"white\", \"gridwidth\": 2, \"linecolor\": \"white\", \"showbackground\": true, \"ticks\": \"\", \"zerolinecolor\": \"white\"}}, \"shapedefaults\": {\"line\": {\"color\": \"#2a3f5f\"}}, \"ternary\": {\"aaxis\": {\"gridcolor\": \"white\", \"linecolor\": \"white\", \"ticks\": \"\"}, \"baxis\": {\"gridcolor\": \"white\", \"linecolor\": \"white\", \"ticks\": \"\"}, \"bgcolor\": \"#E5ECF6\", \"caxis\": {\"gridcolor\": \"white\", \"linecolor\": \"white\", \"ticks\": \"\"}}, \"title\": {\"x\": 0.05}, \"xaxis\": {\"automargin\": true, \"gridcolor\": \"white\", \"linecolor\": \"white\", \"ticks\": \"\", \"zerolinecolor\": \"white\", \"zerolinewidth\": 2}, \"yaxis\": {\"automargin\": true, \"gridcolor\": \"white\", \"linecolor\": \"white\", \"ticks\": \"\", \"zerolinecolor\": \"white\", \"zerolinewidth\": 2}}}, \"xaxis\": {\"anchor\": \"y\", \"domain\": [0.0, 0.98], \"title\": {\"text\": \"time\"}}, \"yaxis\": {\"anchor\": \"x\", \"domain\": [0.0, 1.0], \"title\": {\"text\": \"value\"}}},\n",
       "                        {\"responsive\": true}\n",
       "                    ).then(function(){\n",
       "                            \n",
       "var gd = document.getElementById('db149533-1182-4bf7-82f2-0083e072ee43');\n",
       "var x = new MutationObserver(function (mutations, observer) {{\n",
       "        var display = window.getComputedStyle(gd).display;\n",
       "        if (!display || display === 'none') {{\n",
       "            console.log([gd, 'removed!']);\n",
       "            Plotly.purge(gd);\n",
       "            observer.disconnect();\n",
       "        }}\n",
       "}});\n",
       "\n",
       "// Listen for the removal of the full notebook cells\n",
       "var notebookContainer = gd.closest('#notebook-container');\n",
       "if (notebookContainer) {{\n",
       "    x.observe(notebookContainer, {childList: true});\n",
       "}}\n",
       "\n",
       "// Listen for the clearing of the current output cell\n",
       "var outputEl = gd.closest('.output');\n",
       "if (outputEl) {{\n",
       "    x.observe(outputEl, {childList: true});\n",
       "}}\n",
       "\n",
       "                        })\n",
       "                };\n",
       "                });\n",
       "            </script>\n",
       "        </div>"
      ]
     },
     "metadata": {},
     "output_type": "display_data"
    }
   ],
   "source": [
    "# Use plotly to visualize interactive price line chart over time\n",
    "#!pip install plotly==4.2.1\n",
    "import plotly.express as px\n",
    "\n",
    "# draw some test zip codes\n",
    "df1 = final_df[final_df['zipcode']==60657]\n",
    "df1 = df1.reset_index()\n",
    "fig = px.line(df1, x=\"time\", y=\"value\", hover_name='zipcode')\n",
    "fig.show()\n",
    "    "
   ]
  },
  {
   "cell_type": "markdown",
   "metadata": {},
   "source": [
    "#### Visualization of data at a glance, just to see the general trend of some zipcodes"
   ]
  },
  {
   "cell_type": "code",
   "execution_count": 391,
   "metadata": {},
   "outputs": [
    {
     "data": {
      "image/png": "[encoded data removed]",
      "text/plain": [
       "<Figure size 1440x864 with 1 Axes>"
      ]
     },
     "metadata": {
      "needs_background": "light"
     },
     "output_type": "display_data"
    }
   ],
   "source": [
    "plt.figure(figsize=(20,12))\n",
    "\n",
    "# list of zipcodes\n",
    "zipcodes = final_df['zipcode'].unique()\n",
    "\n",
    "# slice some zipcodes at a time to test only, it takes a very very long time to draw all zipcodes\n",
    "for zipcode in zipcodes[0:20]:\n",
    "    final_df.loc[final_df['zipcode'] == zipcode].value.plot(label=zipcode)\n",
    "    \n",
    "plt.legend(loc='upper center', bbox_to_anchor=(0.5, -0.05), fancybox=True, shadow=True, ncol=10)\n",
    "plt.show()"
   ]
  },
  {
   "cell_type": "markdown",
   "metadata": {},
   "source": [
    "### From a quick plot above, we see that there are some zipcode was actually growing much stronger over time then others\n",
    "### Our jobs is to indentify those high-growth zipcodes by developing data models to forecast future growth"
   ]
  },
  {
   "cell_type": "markdown",
   "metadata": {},
   "source": [
    "### Now, we want to see  seasonality and trend of some zipcodes data"
   ]
  },
  {
   "cell_type": "markdown",
   "metadata": {},
   "source": [
    "#### Run an ETS Decomposition"
   ]
  },
  {
   "cell_type": "code",
   "execution_count": 392,
   "metadata": {},
   "outputs": [
    {
     "data": {
      "image/png": "[encoded data removed]",
      "text/plain": [
       "<Figure size 864x360 with 4 Axes>"
      ]
     },
     "metadata": {
      "needs_background": "light"
     },
     "output_type": "display_data"
    },
    {
     "data": {
      "image/png": "[encoded data removed]",
      "text/plain": [
       "<Figure size 864x360 with 4 Axes>"
      ]
     },
     "metadata": {
      "needs_background": "light"
     },
     "output_type": "display_data"
    },
    {
     "data": {
      "image/png": "[encoded data removed]",
      "text/plain": [
       "<Figure size 864x360 with 4 Axes>"
      ]
     },
     "metadata": {
      "needs_background": "light"
     },
     "output_type": "display_data"
    }
   ],
   "source": [
    "rcParams['figure.figsize'] = 12,5\n",
    "\n",
    "for zipcode in zipcodes[0:3]:\n",
    "    results = seasonal_decompose(final_df.loc[final_df['zipcode'] == zipcode].value, model='add')\n",
    "    fig = results.plot();\n",
    "    fig.text(0.5, 1, f'ZIPCODE: {zipcode}')"
   ]
  },
  {
   "cell_type": "markdown",
   "metadata": {},
   "source": [
    "#### Plot ACF and PACF of some zipcodes to check corelation"
   ]
  },
  {
   "cell_type": "code",
   "execution_count": 393,
   "metadata": {},
   "outputs": [
    {
     "data": {
      "image/png": "[encoded data removed]",
      "text/plain": [
       "<Figure size 1440x864 with 6 Axes>"
      ]
     },
     "metadata": {
      "needs_background": "light"
     },
     "output_type": "display_data"
    }
   ],
   "source": [
    "fig = plt.figure(figsize=(20,12))\n",
    "i = 0\n",
    "lags=40\n",
    "for zipcode in zipcodes[0:3]:\n",
    "    i += 1\n",
    "    ax = plt.subplot(3,2,i)\n",
    "    title = f'Autocorrelation: Zipcode: {zipcode}'\n",
    "    plot_acf(final_df.loc[final_df['zipcode'] == zipcode].value, alpha=0.05, title=title, lags=lags, ax=ax);\n",
    "\n",
    "    i += 1\n",
    "    ax = plt.subplot(3,2,i)\n",
    "    title=f'Partial Autocorrelation: Zipcode: {zipcode}'\n",
    "    plot_pacf(final_df.loc[final_df['zipcode'] == zipcode].value, alpha=0.05, title=title, lags=lags, ax=ax);"
   ]
  },
  {
   "cell_type": "markdown",
   "metadata": {},
   "source": [
    "## Automate the Augmented Dickey-Fuller Test\n",
    "##### Function that performs the augmented Dickey-Fuller Test to determine if an incoming time series is stationary."
   ]
  },
  {
   "cell_type": "code",
   "execution_count": 394,
   "metadata": {},
   "outputs": [],
   "source": [
    "from statsmodels.tsa.stattools import adfuller\n",
    "\n",
    "def adf_test(series,title=''):\n",
    "    \"\"\"\n",
    "    Pass in a time series and an optional title, returns an ADF report\n",
    "    \"\"\"\n",
    "    print(\"==============================================================\")\n",
    "    print(f'Augmented Dickey-Fuller Test: {title}')\n",
    "    result = adfuller(series.dropna(),autolag='AIC') # .dropna() handles differenced data\n",
    "    \n",
    "    labels = ['ADF test statistic','p-value','# lags used','# observations']\n",
    "    out = pd.Series(result[0:4],index=labels)\n",
    "\n",
    "    for key,val in result[4].items():\n",
    "        out[f'critical value ({key})']=val\n",
    "        \n",
    "    print(\"--------------------------------------------------------------\")\n",
    "    print(out.to_string())\n",
    "    \n",
    "    if result[1] <= 0.05:\n",
    "        print(\"Strong evidence against the null hypothesis\")\n",
    "        print(\"Reject the null hypothesis\")\n",
    "        print(\"Data has no unit root and is stationary\")\n",
    "    else:\n",
    "        print(\"Weak evidence against the null hypothesis\")\n",
    "        print(\"Fail to reject the null hypothesis\")\n",
    "        print(\"Data has a unit root and is non-stationary\")\n",
    "        \n",
    "    print(\"--------------------------------------------------------------\")"
   ]
  },
  {
   "cell_type": "code",
   "execution_count": 395,
   "metadata": {},
   "outputs": [
    {
     "name": "stdout",
     "output_type": "stream",
     "text": [
      "==============================================================\n",
      "Augmented Dickey-Fuller Test: ZIPCODE: 6\n",
      "--------------------------------------------------------------\n",
      "ADF test statistic       -2.298046\n",
      "p-value                   0.172599\n",
      "# lags used              16.000000\n",
      "# observations          248.000000\n",
      "critical value (1%)      -3.456996\n",
      "critical value (5%)      -2.873266\n",
      "critical value (10%)     -2.573019\n",
      "Weak evidence against the null hypothesis\n",
      "Fail to reject the null hypothesis\n",
      "Data has a unit root and is non-stationary\n",
      "--------------------------------------------------------------\n",
      "==============================================================\n",
      "Augmented Dickey-Fuller Test: ZIPCODE: 6\n",
      "--------------------------------------------------------------\n",
      "ADF test statistic        0.599300\n",
      "p-value                   0.987598\n",
      "# lags used               8.000000\n",
      "# observations          256.000000\n",
      "critical value (1%)      -3.456155\n",
      "critical value (5%)      -2.872897\n",
      "critical value (10%)     -2.572822\n",
      "Weak evidence against the null hypothesis\n",
      "Fail to reject the null hypothesis\n",
      "Data has a unit root and is non-stationary\n",
      "--------------------------------------------------------------\n",
      "==============================================================\n",
      "Augmented Dickey-Fuller Test: ZIPCODE: 6\n",
      "--------------------------------------------------------------\n",
      "ADF test statistic       -2.504919\n",
      "p-value                   0.114282\n",
      "# lags used               8.000000\n",
      "# observations          256.000000\n",
      "critical value (1%)      -3.456155\n",
      "critical value (5%)      -2.872897\n",
      "critical value (10%)     -2.572822\n",
      "Weak evidence against the null hypothesis\n",
      "Fail to reject the null hypothesis\n",
      "Data has a unit root and is non-stationary\n",
      "--------------------------------------------------------------\n"
     ]
    }
   ],
   "source": [
    "# check ADF test for some zipcodes\n",
    "for zipcode in zipcodes[0:3]:\n",
    "    adf_test(final_df.loc[final_df['zipcode'] == zipcode].value, title= f'ZIPCODE: {i}')"
   ]
  },
  {
   "cell_type": "markdown",
   "metadata": {},
   "source": [
    "### Again, with the Augmented Dickey-Fuller Test results, all data for all zipcodes are seasonal.\n",
    "\n"
   ]
  },
  {
   "cell_type": "markdown",
   "metadata": {},
   "source": [
    "# Step 3: Explore ARIMA Modeling to Find Best Fit Model"
   ]
  },
  {
   "cell_type": "markdown",
   "metadata": {},
   "source": [
    "### Use grid search to find best fit ARIMA model of one sample zipcode"
   ]
  },
  {
   "cell_type": "code",
   "execution_count": 396,
   "metadata": {},
   "outputs": [
    {
     "data": {
      "text/html": [
       "<table class=\"simpletable\">\n",
       "<caption>Statespace Model Results</caption>\n",
       "<tr>\n",
       "  <th>Dep. Variable:</th>                  <td>y</td>               <th>  No. Observations:  </th>    <td>265</td>   \n",
       "</tr>\n",
       "<tr>\n",
       "  <th>Model:</th>           <td>SARIMAX(2, 1, 0)x(0, 1, 0, 12)</td> <th>  Log Likelihood     </th> <td>-2447.750</td>\n",
       "</tr>\n",
       "<tr>\n",
       "  <th>Date:</th>                   <td>Sun, 03 Nov 2019</td>        <th>  AIC                </th> <td>4903.499</td> \n",
       "</tr>\n",
       "<tr>\n",
       "  <th>Time:</th>                       <td>07:48:21</td>            <th>  BIC                </th> <td>4917.617</td> \n",
       "</tr>\n",
       "<tr>\n",
       "  <th>Sample:</th>                         <td>0</td>               <th>  HQIC               </th> <td>4909.180</td> \n",
       "</tr>\n",
       "<tr>\n",
       "  <th></th>                             <td> - 265</td>             <th>                     </th>     <td> </td>    \n",
       "</tr>\n",
       "<tr>\n",
       "  <th>Covariance Type:</th>               <td>opg</td>              <th>                     </th>     <td> </td>    \n",
       "</tr>\n",
       "</table>\n",
       "<table class=\"simpletable\">\n",
       "<tr>\n",
       "      <td></td>         <th>coef</th>     <th>std err</th>      <th>z</th>      <th>P>|z|</th>  <th>[0.025</th>    <th>0.975]</th>  \n",
       "</tr>\n",
       "<tr>\n",
       "  <th>intercept</th> <td>   78.9959</td> <td>  254.289</td> <td>    0.311</td> <td> 0.756</td> <td> -419.402</td> <td>  577.393</td>\n",
       "</tr>\n",
       "<tr>\n",
       "  <th>ar.L1</th>     <td>    0.0360</td> <td>    0.005</td> <td>    7.089</td> <td> 0.000</td> <td>    0.026</td> <td>    0.046</td>\n",
       "</tr>\n",
       "<tr>\n",
       "  <th>ar.L2</th>     <td>    0.0209</td> <td>    0.008</td> <td>    2.520</td> <td> 0.012</td> <td>    0.005</td> <td>    0.037</td>\n",
       "</tr>\n",
       "<tr>\n",
       "  <th>sigma2</th>    <td> 1.589e+07</td> <td>    0.009</td> <td> 1.82e+09</td> <td> 0.000</td> <td> 1.59e+07</td> <td> 1.59e+07</td>\n",
       "</tr>\n",
       "</table>\n",
       "<table class=\"simpletable\">\n",
       "<tr>\n",
       "  <th>Ljung-Box (Q):</th>          <td>388.85</td> <th>  Jarque-Bera (JB):  </th> <td>3.01</td>\n",
       "</tr>\n",
       "<tr>\n",
       "  <th>Prob(Q):</th>                 <td>0.00</td>  <th>  Prob(JB):          </th> <td>0.22</td>\n",
       "</tr>\n",
       "<tr>\n",
       "  <th>Heteroskedasticity (H):</th>  <td>3.74</td>  <th>  Skew:              </th> <td>0.27</td>\n",
       "</tr>\n",
       "<tr>\n",
       "  <th>Prob(H) (two-sided):</th>     <td>0.00</td>  <th>  Kurtosis:          </th> <td>2.93</td>\n",
       "</tr>\n",
       "</table><br/><br/>Warnings:<br/>[1] Covariance matrix calculated using the outer product of gradients (complex-step).<br/>[2] Covariance matrix is singular or near-singular, with condition number 2.39e+24. Standard errors may be unstable."
      ],
      "text/plain": [
       "<class 'statsmodels.iolib.summary.Summary'>\n",
       "\"\"\"\n",
       "                                 Statespace Model Results                                 \n",
       "==========================================================================================\n",
       "Dep. Variable:                                  y   No. Observations:                  265\n",
       "Model:             SARIMAX(2, 1, 0)x(0, 1, 0, 12)   Log Likelihood               -2447.750\n",
       "Date:                            Sun, 03 Nov 2019   AIC                           4903.499\n",
       "Time:                                    07:48:21   BIC                           4917.617\n",
       "Sample:                                         0   HQIC                          4909.180\n",
       "                                            - 265                                         \n",
       "Covariance Type:                              opg                                         \n",
       "==============================================================================\n",
       "                 coef    std err          z      P>|z|      [0.025      0.975]\n",
       "------------------------------------------------------------------------------\n",
       "intercept     78.9959    254.289      0.311      0.756    -419.402     577.393\n",
       "ar.L1          0.0360      0.005      7.089      0.000       0.026       0.046\n",
       "ar.L2          0.0209      0.008      2.520      0.012       0.005       0.037\n",
       "sigma2      1.589e+07      0.009   1.82e+09      0.000    1.59e+07    1.59e+07\n",
       "===================================================================================\n",
       "Ljung-Box (Q):                      388.85   Jarque-Bera (JB):                 3.01\n",
       "Prob(Q):                              0.00   Prob(JB):                         0.22\n",
       "Heteroskedasticity (H):               3.74   Skew:                             0.27\n",
       "Prob(H) (two-sided):                  0.00   Kurtosis:                         2.93\n",
       "===================================================================================\n",
       "\n",
       "Warnings:\n",
       "[1] Covariance matrix calculated using the outer product of gradients (complex-step).\n",
       "[2] Covariance matrix is singular or near-singular, with condition number 2.39e+24. Standard errors may be unstable.\n",
       "\"\"\""
      ]
     },
     "execution_count": 396,
     "metadata": {},
     "output_type": "execute_result"
    }
   ],
   "source": [
    "# test with one zipcode\n",
    "result = auto_arima(final_df.loc[final_df['zipcode'] == zipcodes[0]].value, \n",
    "                    start_p=1, start_q=1, max_p=3, max_q=3, m=12, start_P=0, seasonal=True, d=None, D=1, \n",
    "                    trace=False, error_action='ignore',suppress_warnings=True, stepwise=True)\n",
    "\n",
    "result.summary()"
   ]
  },
  {
   "cell_type": "markdown",
   "metadata": {},
   "source": [
    "#### Now, loop through a sample list  zipcodes to find best fit model for each zipcode\n",
    "#### And, store the fitted models in to a DataFrame for later dispaly and use"
   ]
  },
  {
   "cell_type": "code",
   "execution_count": 397,
   "metadata": {},
   "outputs": [
    {
     "data": {
      "text/html": [
       "<div>\n",
       "<style scoped>\n",
       "    .dataframe tbody tr th:only-of-type {\n",
       "        vertical-align: middle;\n",
       "    }\n",
       "\n",
       "    .dataframe tbody tr th {\n",
       "        vertical-align: top;\n",
       "    }\n",
       "\n",
       "    .dataframe thead th {\n",
       "        text-align: right;\n",
       "    }\n",
       "</style>\n",
       "<table border=\"1\" class=\"dataframe\">\n",
       "  <thead>\n",
       "    <tr style=\"text-align: right;\">\n",
       "      <th></th>\n",
       "      <th>zipcode</th>\n",
       "      <th>model</th>\n",
       "      <th>order</th>\n",
       "      <th>seasonal_order</th>\n",
       "    </tr>\n",
       "  </thead>\n",
       "  <tbody>\n",
       "    <tr>\n",
       "      <th>0</th>\n",
       "      <td>60657</td>\n",
       "      <td>SARIMAX</td>\n",
       "      <td>(2, 1, 0)</td>\n",
       "      <td>(0, 1, 0, 12)</td>\n",
       "    </tr>\n",
       "    <tr>\n",
       "      <th>1</th>\n",
       "      <td>75070</td>\n",
       "      <td>SARIMAX</td>\n",
       "      <td>(2, 1, 2)</td>\n",
       "      <td>(0, 1, 1, 12)</td>\n",
       "    </tr>\n",
       "    <tr>\n",
       "      <th>2</th>\n",
       "      <td>77494</td>\n",
       "      <td>SARIMAX</td>\n",
       "      <td>(1, 0, 1)</td>\n",
       "      <td>(0, 1, 1, 12)</td>\n",
       "    </tr>\n",
       "  </tbody>\n",
       "</table>\n",
       "</div>"
      ],
      "text/plain": [
       "   zipcode    model      order seasonal_order\n",
       "0    60657  SARIMAX  (2, 1, 0)  (0, 1, 0, 12)\n",
       "1    75070  SARIMAX  (2, 1, 2)  (0, 1, 1, 12)\n",
       "2    77494  SARIMAX  (1, 0, 1)  (0, 1, 1, 12)"
      ]
     },
     "execution_count": 397,
     "metadata": {},
     "output_type": "execute_result"
    }
   ],
   "source": [
    "# find the best fit model for each zip code\n",
    "models = []\n",
    "for zipcode in zipcodes[0:3]:\n",
    "    result = auto_arima(final_df.loc[final_df['zipcode'] == zipcode].value, \n",
    "                    start_p=1, start_q=1, max_p=3, max_q=3, m=12, start_P=0, seasonal=True, d=None, D=1, \n",
    "                    trace=False, error_action='ignore',suppress_warnings=True, stepwise=True)\n",
    "    if result._is_seasonal():\n",
    "        model = {'zipcode': zipcode, 'model': 'SARIMAX', 'order': result.order, 'seasonal_order': result.seasonal_order}\n",
    "    else:\n",
    "        model = {'zipcode': zipcode, 'model': 'ARIMA', 'order': result.order, 'seasonal_order': None}\n",
    "        \n",
    "    models.append(model)\n",
    "    \n",
    "# convert models list into DataFrame for easy reading\n",
    "model_df = pd.DataFrame(models, columns=['zipcode', 'model', 'order', 'seasonal_order'])\n",
    "model_df"
   ]
  },
  {
   "cell_type": "markdown",
   "metadata": {},
   "source": [
    "# Step 4: ARIMA Model Fitting & Forecasting for 1 Test Zipcode"
   ]
  },
  {
   "cell_type": "code",
   "execution_count": 398,
   "metadata": {},
   "outputs": [],
   "source": [
    "# fit the best model with full historical data for one test zipcode\n",
    "model_data = model_df.iloc[0]\n",
    "data = final_df[final_df['zipcode']==model_data['zipcode']]\n",
    "arima_model = sm.tsa.statespace.SARIMAX(data['value'], order=model_data['order'], seasonal_order=model_data['seasonal_order'], \n",
    "                                        enforce_stationarity=False, enforce_invertibility=False)\n",
    "\n",
    "# fit the model and print results\n",
    "fitted_model = arima_model.fit()"
   ]
  },
  {
   "cell_type": "markdown",
   "metadata": {},
   "source": [
    "#### Printing the diagnostics of the model"
   ]
  },
  {
   "cell_type": "code",
   "execution_count": 399,
   "metadata": {},
   "outputs": [
    {
     "data": {
      "image/png": "[encoded data removed]",
      "text/plain": [
       "<Figure size 1152x576 with 4 Axes>"
      ]
     },
     "metadata": {
      "needs_background": "light"
     },
     "output_type": "display_data"
    }
   ],
   "source": [
    "# plot model diagnostics\n",
    "fitted_model.plot_diagnostics(figsize=(16, 8))\n",
    "plt.show()"
   ]
  },
  {
   "cell_type": "markdown",
   "metadata": {},
   "source": [
    "#### Predict value for the next 36 months"
   ]
  },
  {
   "cell_type": "code",
   "execution_count": 400,
   "metadata": {},
   "outputs": [],
   "source": [
    "# last historical data point\n",
    "current_data = data.tail(1)\n",
    "current_data.reset_index(inplace=True)\n",
    "time = current_data.iloc[0]['time']\n",
    "zipcode = current_data.iloc[0]['zipcode']\n",
    "value = current_data.iloc[0]['value']\n",
    "date_range = pd.date_range(time, periods=37, freq='MS') # first date is present\n",
    "date_range = date_range[1:] # remove the present date from the date range"
   ]
  },
  {
   "cell_type": "code",
   "execution_count": 401,
   "metadata": {},
   "outputs": [],
   "source": [
    "# forecast into the future\n",
    "forecast_values = fitted_model.predict(start=date_range[0], end=date_range[-1], typ='levels').rename('forecasted value')"
   ]
  },
  {
   "cell_type": "code",
   "execution_count": 402,
   "metadata": {},
   "outputs": [
    {
     "data": {
      "text/plain": [
       "<matplotlib.axes._subplots.AxesSubplot at 0x50a25e80>"
      ]
     },
     "execution_count": 402,
     "metadata": {},
     "output_type": "execute_result"
    },
    {
     "data": {
      "image/png": "[encoded data removed]",
      "text/plain": [
       "<Figure size 864x432 with 1 Axes>"
      ]
     },
     "metadata": {
      "needs_background": "light"
     },
     "output_type": "display_data"
    }
   ],
   "source": [
    "# plot historical and forecasted data\n",
    "data['value'].plot(legend=True,figsize=(12,6))\n",
    "forecast_values.plot(legend=True)"
   ]
  },
  {
   "cell_type": "code",
   "execution_count": 403,
   "metadata": {},
   "outputs": [
    {
     "data": {
      "text/plain": [
       "{'Zipcode': 60657,\n",
       " 'Current Value': 1030600.0,\n",
       " 'Value After 1 Year': 1061042.0,\n",
       " 'Value After 2 Year': 1091443.0,\n",
       " 'Value After 3 Year': 1121843.0,\n",
       " 'ROI After 1 Year': 0.03,\n",
       " 'ROI After 2 Year': 0.06,\n",
       " 'ROI After 3 Year': 0.09}"
      ]
     },
     "execution_count": 403,
     "metadata": {},
     "output_type": "execute_result"
    }
   ],
   "source": [
    "# calculate ROI\n",
    "forecast = pd.DataFrame(forecast_values, index=date_range[:])\n",
    "value_after_1_year = round(forecast.iloc[1*12-1]['forecasted value'], 0)\n",
    "value_after_2_year = round(forecast.iloc[2*12-1]['forecasted value'], 0)\n",
    "value_after_3_year = round(forecast.iloc[3*12-1]['forecasted value'], 0)\n",
    "forecast_data = {'Zipcode': zipcode, 'Current Value': value, \n",
    "                 'Value After 1 Year': value_after_1_year,\n",
    "                 'Value After 2 Year': value_after_2_year,\n",
    "                 'Value After 3 Year': value_after_3_year,\n",
    "                 'ROI After 1 Year': round((value_after_1_year - value) / value, 2),\n",
    "                 'ROI After 2 Year': round((value_after_2_year - value) / value, 2),\n",
    "                 'ROI After 3 Year': round((value_after_3_year - value) / value, 2)}\n",
    "forecast_data"
   ]
  },
  {
   "cell_type": "markdown",
   "metadata": {},
   "source": [
    "# Step 5: Modelling and Forecasting The Future for All Zipcodes"
   ]
  },
  {
   "cell_type": "markdown",
   "metadata": {},
   "source": [
    "#### Now we rewrite all the code for finding best models, fitting models and forecasting into reusable functions to perform forecasting for all the chosen zipcodes"
   ]
  },
  {
   "cell_type": "code",
   "execution_count": 404,
   "metadata": {},
   "outputs": [],
   "source": [
    "# function to find best fit model\n",
    "def find_best_fit_models(dataframe):\n",
    "    \"\"\"\n",
    "    This function use auto_arima to find the best fit model for each zipcode\n",
    "    provided in the ``zipcodes`` list.\n",
    "    \n",
    "    Parameters:\n",
    "    ------------\n",
    "    dataframe   : the house value time series DataFrame with columns: ['zipcode', 'value']\n",
    "    \n",
    "    Return:\n",
    "    ------------\n",
    "    A DataFrame with following data columns: ['zipcode', 'model', 'order', 'seasonal_order']\n",
    "    \"\"\"\n",
    "    # list to store best fit models\n",
    "    models = []\n",
    "    \n",
    "    # zipcodes\n",
    "    zipcodes = dataframe['zipcode'].unique()\n",
    "    \n",
    "    # loop through all zipcodes to find best model for each zipcode\n",
    "    for zipcode in zipcodes:\n",
    "        # call auto_arima to find best model\n",
    "        result = auto_arima(dataframe.loc[dataframe['zipcode'] == zipcode].value, \n",
    "                            start_p=1, start_q=1, max_p=3, max_q=3, m=12, start_P=0, seasonal=True, d=None, D=1, \n",
    "                            trace=False, error_action='ignore',suppress_warnings=True, stepwise=True)\n",
    "        \n",
    "        # build a model dictionary and put into the returned list\n",
    "        model = {'zipcode': zipcode, 'model': 'SARIMAX', 'order': result.order, 'seasonal_order': result.seasonal_order}\n",
    "        models.append(model)\n",
    "\n",
    "    # convert models list into DataFrame for easy reading\n",
    "    model_df = pd.DataFrame(models, columns=['zipcode', 'model', 'order', 'seasonal_order'])\n",
    "    \n",
    "    return model_df"
   ]
  },
  {
   "cell_type": "code",
   "execution_count": 405,
   "metadata": {},
   "outputs": [],
   "source": [
    "# function to fit model and forecast future data\n",
    "def fit_and_forecast(dataframe, model_df):\n",
    "    \"\"\"\n",
    "    This function fit each model in ``model_df`` with the data from ``dataframe``.\n",
    "    Then, use the fitted model to forecast into the future and calculate the forecasted ROI.\n",
    "    \n",
    "    Parameters:\n",
    "    -----------\n",
    "    dataframe   : the house value time series DataFrame with columns: ['zipcode', 'value']\n",
    "    model_df    : the model DataFrame output from function ``find_best_fit_models``\n",
    "    \n",
    "    Return:\n",
    "    -----------\n",
    "    A DataFrame with forecasted data,\n",
    "    And a DataFrame with forecasted ROI data\n",
    "    \"\"\"\n",
    "    \n",
    "    # forecast data to be returned\n",
    "    ROIs = []\n",
    "    forecasts = []\n",
    "    \n",
    "    # loop through all model in model_df\n",
    "    for index, model in model_df.iterrows():                \n",
    "        # fit the best model with full historical data for one test zipcode\n",
    "        data = dataframe[dataframe['zipcode']==model['zipcode']]\n",
    "        arima_model = sm.tsa.statespace.SARIMAX(data['value'], order=model['order'], \n",
    "                                                seasonal_order=model['seasonal_order'], \n",
    "                                                enforce_stationarity=False, enforce_invertibility=False)\n",
    "\n",
    "        # fit the model and print results\n",
    "        fitted_model = arima_model.fit()\n",
    "    \n",
    "        # last historical data point\n",
    "        current_data = data.tail(1)\n",
    "        current_data.reset_index(inplace=True)\n",
    "        time = current_data.iloc[0]['time']\n",
    "        zipcode = current_data.iloc[0]['zipcode']\n",
    "        value = current_data.iloc[0]['value']\n",
    "        \n",
    "        # build forecast date range\n",
    "        date_range = pd.date_range(time, periods=37, freq='MS') # first date is present\n",
    "        date_range = date_range[1:] # remove the first date\n",
    "        \n",
    "        # forecast values of the future\n",
    "        forecast_values = fitted_model.predict(start=date_range[0],\n",
    "                  end=date_range[-1], typ='levels').rename('value')\n",
    "        \n",
    "        # build forecast dataframe\n",
    "        forecast_df = pd.DataFrame(forecast_values, index=date_range[:])\n",
    "        forecast_df['zipcode'] = zipcode\n",
    "        forecasts.append(forecast_df)\n",
    "        \n",
    "        # calculate and build forecasted ROI dataframe\n",
    "        value_after_1_year = round(forecast_df.iloc[1*12-1]['value'], 0)\n",
    "        value_after_2_year = round(forecast_df.iloc[2*12-1]['value'], 0)\n",
    "        value_after_3_year = round(forecast_df.iloc[3*12-1]['value'], 0)\n",
    "        roi_data = {'Zipcode': zipcode, \n",
    "                         'Current Value': value, \n",
    "                         'Value After 1 Year': value_after_1_year,\n",
    "                         'Value After 2 Year': value_after_2_year,\n",
    "                         'Value After 3 Year': value_after_3_year,\n",
    "                         'ROI After 1 Year': round((value_after_1_year - value) / value, 2),\n",
    "                         'ROI After 2 Year': round((value_after_2_year - value) / value, 2),\n",
    "                         'ROI After 3 Year': round((value_after_3_year - value) / value, 2)}\n",
    "        ROIs.append(roi_data)\n",
    "    \n",
    "    # convert models list into DataFrame for easy reading\n",
    "    roi_df = pd.DataFrame(ROIs, columns=['Zipcode', 'Current Value', \n",
    "                           'Value After 1 Year', 'Value After 2 Year', 'Value After 3 Year',\n",
    "                                'ROI After 1 Year', 'ROI After 2 Year', 'ROI After 3 Year'])\n",
    "    \n",
    "    # merge all forecasts into one DataFrame\n",
    "    forecast_df = pd.concat(forecasts)\n",
    "    \n",
    "    return forecast_df, roi_df\n",
    "    "
   ]
  },
  {
   "cell_type": "markdown",
   "metadata": {},
   "source": [
    "### Now we want to forecast and calculate forecasted future ROI\n",
    "#### However, to run for the whole dataset with a normal computer it may takes days to finish, so we will run for one State at a time\n",
    "#### In this test, we assume we want to run forecast for the state California `CA` only.\n",
    "\n",
    "#### There are 2 options, which depends in target customer, we might have a look  on profit "
   ]
  },
  {
   "cell_type": "code",
   "execution_count": 229,
   "metadata": {},
   "outputs": [
    {
     "data": {
      "text/html": [
       "<div>\n",
       "<style scoped>\n",
       "    .dataframe tbody tr th:only-of-type {\n",
       "        vertical-align: middle;\n",
       "    }\n",
       "\n",
       "    .dataframe tbody tr th {\n",
       "        vertical-align: top;\n",
       "    }\n",
       "\n",
       "    .dataframe thead th {\n",
       "        text-align: right;\n",
       "    }\n",
       "</style>\n",
       "<table border=\"1\" class=\"dataframe\">\n",
       "  <thead>\n",
       "    <tr style=\"text-align: right;\">\n",
       "      <th></th>\n",
       "      <th>Zipcode</th>\n",
       "      <th>Current Value</th>\n",
       "      <th>Value After 1 Year</th>\n",
       "      <th>Value After 2 Year</th>\n",
       "      <th>Value After 3 Year</th>\n",
       "      <th>ROI After 1 Year</th>\n",
       "      <th>ROI After 2 Year</th>\n",
       "      <th>ROI After 3 Year</th>\n",
       "    </tr>\n",
       "  </thead>\n",
       "  <tbody>\n",
       "    <tr>\n",
       "      <th>0</th>\n",
       "      <td>94109</td>\n",
       "      <td>3813500.0</td>\n",
       "      <td>3980863.0</td>\n",
       "      <td>3998647.0</td>\n",
       "      <td>4000537.0</td>\n",
       "      <td>0.04</td>\n",
       "      <td>0.05</td>\n",
       "      <td>0.05</td>\n",
       "    </tr>\n",
       "    <tr>\n",
       "      <th>1</th>\n",
       "      <td>90250</td>\n",
       "      <td>616200.0</td>\n",
       "      <td>640778.0</td>\n",
       "      <td>658125.0</td>\n",
       "      <td>670370.0</td>\n",
       "      <td>0.04</td>\n",
       "      <td>0.07</td>\n",
       "      <td>0.09</td>\n",
       "    </tr>\n",
       "    <tr>\n",
       "      <th>2</th>\n",
       "      <td>94565</td>\n",
       "      <td>430100.0</td>\n",
       "      <td>464343.0</td>\n",
       "      <td>491166.0</td>\n",
       "      <td>511258.0</td>\n",
       "      <td>0.08</td>\n",
       "      <td>0.14</td>\n",
       "      <td>0.19</td>\n",
       "    </tr>\n",
       "    <tr>\n",
       "      <th>3</th>\n",
       "      <td>90046</td>\n",
       "      <td>1966900.0</td>\n",
       "      <td>1883392.0</td>\n",
       "      <td>1848046.0</td>\n",
       "      <td>1833086.0</td>\n",
       "      <td>-0.04</td>\n",
       "      <td>-0.06</td>\n",
       "      <td>-0.07</td>\n",
       "    </tr>\n",
       "    <tr>\n",
       "      <th>4</th>\n",
       "      <td>94501</td>\n",
       "      <td>1059700.0</td>\n",
       "      <td>1071992.0</td>\n",
       "      <td>1075278.0</td>\n",
       "      <td>1076247.0</td>\n",
       "      <td>0.01</td>\n",
       "      <td>0.01</td>\n",
       "      <td>0.02</td>\n",
       "    </tr>\n",
       "    <tr>\n",
       "      <th>5</th>\n",
       "      <td>90034</td>\n",
       "      <td>1419100.0</td>\n",
       "      <td>1511500.0</td>\n",
       "      <td>1603900.0</td>\n",
       "      <td>1696300.0</td>\n",
       "      <td>0.07</td>\n",
       "      <td>0.13</td>\n",
       "      <td>0.20</td>\n",
       "    </tr>\n",
       "    <tr>\n",
       "      <th>6</th>\n",
       "      <td>94110</td>\n",
       "      <td>1594000.0</td>\n",
       "      <td>1882000.0</td>\n",
       "      <td>2170000.0</td>\n",
       "      <td>2458000.0</td>\n",
       "      <td>0.18</td>\n",
       "      <td>0.36</td>\n",
       "      <td>0.54</td>\n",
       "    </tr>\n",
       "    <tr>\n",
       "      <th>7</th>\n",
       "      <td>90044</td>\n",
       "      <td>421100.0</td>\n",
       "      <td>431513.0</td>\n",
       "      <td>435654.0</td>\n",
       "      <td>438164.0</td>\n",
       "      <td>0.02</td>\n",
       "      <td>0.03</td>\n",
       "      <td>0.04</td>\n",
       "    </tr>\n",
       "    <tr>\n",
       "      <th>8</th>\n",
       "      <td>90805</td>\n",
       "      <td>459100.0</td>\n",
       "      <td>470337.0</td>\n",
       "      <td>479275.0</td>\n",
       "      <td>486383.0</td>\n",
       "      <td>0.02</td>\n",
       "      <td>0.04</td>\n",
       "      <td>0.06</td>\n",
       "    </tr>\n",
       "    <tr>\n",
       "      <th>9</th>\n",
       "      <td>95630</td>\n",
       "      <td>542900.0</td>\n",
       "      <td>532545.0</td>\n",
       "      <td>527721.0</td>\n",
       "      <td>525472.0</td>\n",
       "      <td>-0.02</td>\n",
       "      <td>-0.03</td>\n",
       "      <td>-0.03</td>\n",
       "    </tr>\n",
       "    <tr>\n",
       "      <th>10</th>\n",
       "      <td>90650</td>\n",
       "      <td>481800.0</td>\n",
       "      <td>483547.0</td>\n",
       "      <td>484922.0</td>\n",
       "      <td>486006.0</td>\n",
       "      <td>0.00</td>\n",
       "      <td>0.01</td>\n",
       "      <td>0.01</td>\n",
       "    </tr>\n",
       "    <tr>\n",
       "      <th>11</th>\n",
       "      <td>92683</td>\n",
       "      <td>656900.0</td>\n",
       "      <td>673011.0</td>\n",
       "      <td>684076.0</td>\n",
       "      <td>691675.0</td>\n",
       "      <td>0.02</td>\n",
       "      <td>0.04</td>\n",
       "      <td>0.05</td>\n",
       "    </tr>\n",
       "    <tr>\n",
       "      <th>12</th>\n",
       "      <td>94558</td>\n",
       "      <td>692600.0</td>\n",
       "      <td>695768.0</td>\n",
       "      <td>695100.0</td>\n",
       "      <td>695100.0</td>\n",
       "      <td>0.00</td>\n",
       "      <td>0.00</td>\n",
       "      <td>0.00</td>\n",
       "    </tr>\n",
       "    <tr>\n",
       "      <th>13</th>\n",
       "      <td>90026</td>\n",
       "      <td>972100.0</td>\n",
       "      <td>939150.0</td>\n",
       "      <td>920756.0</td>\n",
       "      <td>910488.0</td>\n",
       "      <td>-0.03</td>\n",
       "      <td>-0.05</td>\n",
       "      <td>-0.06</td>\n",
       "    </tr>\n",
       "    <tr>\n",
       "      <th>14</th>\n",
       "      <td>91910</td>\n",
       "      <td>552400.0</td>\n",
       "      <td>560186.0</td>\n",
       "      <td>565963.0</td>\n",
       "      <td>570249.0</td>\n",
       "      <td>0.01</td>\n",
       "      <td>0.02</td>\n",
       "      <td>0.03</td>\n",
       "    </tr>\n",
       "    <tr>\n",
       "      <th>15</th>\n",
       "      <td>93722</td>\n",
       "      <td>241900.0</td>\n",
       "      <td>248429.0</td>\n",
       "      <td>249113.0</td>\n",
       "      <td>249113.0</td>\n",
       "      <td>0.03</td>\n",
       "      <td>0.03</td>\n",
       "      <td>0.03</td>\n",
       "    </tr>\n",
       "    <tr>\n",
       "      <th>16</th>\n",
       "      <td>94533</td>\n",
       "      <td>384900.0</td>\n",
       "      <td>408548.0</td>\n",
       "      <td>426129.0</td>\n",
       "      <td>439199.0</td>\n",
       "      <td>0.06</td>\n",
       "      <td>0.11</td>\n",
       "      <td>0.14</td>\n",
       "    </tr>\n",
       "    <tr>\n",
       "      <th>17</th>\n",
       "      <td>95608</td>\n",
       "      <td>406100.0</td>\n",
       "      <td>406378.0</td>\n",
       "      <td>406543.0</td>\n",
       "      <td>406640.0</td>\n",
       "      <td>0.00</td>\n",
       "      <td>0.00</td>\n",
       "      <td>0.00</td>\n",
       "    </tr>\n",
       "    <tr>\n",
       "      <th>18</th>\n",
       "      <td>90066</td>\n",
       "      <td>1489900.0</td>\n",
       "      <td>1440700.0</td>\n",
       "      <td>1391500.0</td>\n",
       "      <td>1342300.0</td>\n",
       "      <td>-0.03</td>\n",
       "      <td>-0.07</td>\n",
       "      <td>-0.10</td>\n",
       "    </tr>\n",
       "    <tr>\n",
       "      <th>19</th>\n",
       "      <td>91709</td>\n",
       "      <td>694000.0</td>\n",
       "      <td>724096.0</td>\n",
       "      <td>744512.0</td>\n",
       "      <td>758361.0</td>\n",
       "      <td>0.04</td>\n",
       "      <td>0.07</td>\n",
       "      <td>0.09</td>\n",
       "    </tr>\n",
       "    <tr>\n",
       "      <th>20</th>\n",
       "      <td>92677</td>\n",
       "      <td>964200.0</td>\n",
       "      <td>961719.0</td>\n",
       "      <td>960158.0</td>\n",
       "      <td>959162.0</td>\n",
       "      <td>-0.00</td>\n",
       "      <td>-0.00</td>\n",
       "      <td>-0.01</td>\n",
       "    </tr>\n",
       "    <tr>\n",
       "      <th>21</th>\n",
       "      <td>95823</td>\n",
       "      <td>272800.0</td>\n",
       "      <td>264568.0</td>\n",
       "      <td>258776.0</td>\n",
       "      <td>254701.0</td>\n",
       "      <td>-0.03</td>\n",
       "      <td>-0.05</td>\n",
       "      <td>-0.07</td>\n",
       "    </tr>\n",
       "    <tr>\n",
       "      <th>22</th>\n",
       "      <td>92804</td>\n",
       "      <td>577700.0</td>\n",
       "      <td>581848.0</td>\n",
       "      <td>585103.0</td>\n",
       "      <td>587656.0</td>\n",
       "      <td>0.01</td>\n",
       "      <td>0.01</td>\n",
       "      <td>0.02</td>\n",
       "    </tr>\n",
       "    <tr>\n",
       "      <th>23</th>\n",
       "      <td>92345</td>\n",
       "      <td>246700.0</td>\n",
       "      <td>264739.0</td>\n",
       "      <td>279242.0</td>\n",
       "      <td>291051.0</td>\n",
       "      <td>0.07</td>\n",
       "      <td>0.13</td>\n",
       "      <td>0.18</td>\n",
       "    </tr>\n",
       "    <tr>\n",
       "      <th>24</th>\n",
       "      <td>92126</td>\n",
       "      <td>615100.0</td>\n",
       "      <td>614857.0</td>\n",
       "      <td>614720.0</td>\n",
       "      <td>614642.0</td>\n",
       "      <td>-0.00</td>\n",
       "      <td>-0.00</td>\n",
       "      <td>-0.00</td>\n",
       "    </tr>\n",
       "    <tr>\n",
       "      <th>25</th>\n",
       "      <td>90019</td>\n",
       "      <td>1112400.0</td>\n",
       "      <td>1177516.0</td>\n",
       "      <td>1213754.0</td>\n",
       "      <td>1233922.0</td>\n",
       "      <td>0.06</td>\n",
       "      <td>0.09</td>\n",
       "      <td>0.11</td>\n",
       "    </tr>\n",
       "    <tr>\n",
       "      <th>26</th>\n",
       "      <td>92336</td>\n",
       "      <td>447600.0</td>\n",
       "      <td>462785.0</td>\n",
       "      <td>474389.0</td>\n",
       "      <td>483257.0</td>\n",
       "      <td>0.03</td>\n",
       "      <td>0.06</td>\n",
       "      <td>0.08</td>\n",
       "    </tr>\n",
       "    <tr>\n",
       "      <th>27</th>\n",
       "      <td>91911</td>\n",
       "      <td>489200.0</td>\n",
       "      <td>498258.0</td>\n",
       "      <td>502754.0</td>\n",
       "      <td>505068.0</td>\n",
       "      <td>0.02</td>\n",
       "      <td>0.03</td>\n",
       "      <td>0.03</td>\n",
       "    </tr>\n",
       "    <tr>\n",
       "      <th>28</th>\n",
       "      <td>92503</td>\n",
       "      <td>383600.0</td>\n",
       "      <td>390071.0</td>\n",
       "      <td>394899.0</td>\n",
       "      <td>398501.0</td>\n",
       "      <td>0.02</td>\n",
       "      <td>0.03</td>\n",
       "      <td>0.04</td>\n",
       "    </tr>\n",
       "    <tr>\n",
       "      <th>29</th>\n",
       "      <td>94536</td>\n",
       "      <td>1072700.0</td>\n",
       "      <td>1210700.0</td>\n",
       "      <td>1348700.0</td>\n",
       "      <td>1486700.0</td>\n",
       "      <td>0.13</td>\n",
       "      <td>0.26</td>\n",
       "      <td>0.39</td>\n",
       "    </tr>\n",
       "    <tr>\n",
       "      <th>...</th>\n",
       "      <td>...</td>\n",
       "      <td>...</td>\n",
       "      <td>...</td>\n",
       "      <td>...</td>\n",
       "      <td>...</td>\n",
       "      <td>...</td>\n",
       "      <td>...</td>\n",
       "      <td>...</td>\n",
       "    </tr>\n",
       "    <tr>\n",
       "      <th>1122</th>\n",
       "      <td>91962</td>\n",
       "      <td>451100.0</td>\n",
       "      <td>442246.0</td>\n",
       "      <td>440353.0</td>\n",
       "      <td>439948.0</td>\n",
       "      <td>-0.02</td>\n",
       "      <td>-0.02</td>\n",
       "      <td>-0.02</td>\n",
       "    </tr>\n",
       "    <tr>\n",
       "      <th>1123</th>\n",
       "      <td>96146</td>\n",
       "      <td>864000.0</td>\n",
       "      <td>939600.0</td>\n",
       "      <td>1015200.0</td>\n",
       "      <td>1090800.0</td>\n",
       "      <td>0.09</td>\n",
       "      <td>0.18</td>\n",
       "      <td>0.26</td>\n",
       "    </tr>\n",
       "    <tr>\n",
       "      <th>1124</th>\n",
       "      <td>95638</td>\n",
       "      <td>598600.0</td>\n",
       "      <td>597136.0</td>\n",
       "      <td>600644.0</td>\n",
       "      <td>602272.0</td>\n",
       "      <td>-0.00</td>\n",
       "      <td>0.00</td>\n",
       "      <td>0.01</td>\n",
       "    </tr>\n",
       "    <tr>\n",
       "      <th>1125</th>\n",
       "      <td>91916</td>\n",
       "      <td>444900.0</td>\n",
       "      <td>425201.0</td>\n",
       "      <td>421300.0</td>\n",
       "      <td>420527.0</td>\n",
       "      <td>-0.04</td>\n",
       "      <td>-0.05</td>\n",
       "      <td>-0.05</td>\n",
       "    </tr>\n",
       "    <tr>\n",
       "      <th>1126</th>\n",
       "      <td>93424</td>\n",
       "      <td>1130800.0</td>\n",
       "      <td>1148620.0</td>\n",
       "      <td>1151437.0</td>\n",
       "      <td>1151882.0</td>\n",
       "      <td>0.02</td>\n",
       "      <td>0.02</td>\n",
       "      <td>0.02</td>\n",
       "    </tr>\n",
       "    <tr>\n",
       "      <th>1127</th>\n",
       "      <td>95703</td>\n",
       "      <td>412800.0</td>\n",
       "      <td>429217.0</td>\n",
       "      <td>430859.0</td>\n",
       "      <td>431599.0</td>\n",
       "      <td>0.04</td>\n",
       "      <td>0.04</td>\n",
       "      <td>0.05</td>\n",
       "    </tr>\n",
       "    <tr>\n",
       "      <th>1128</th>\n",
       "      <td>92561</td>\n",
       "      <td>420500.0</td>\n",
       "      <td>477214.0</td>\n",
       "      <td>485110.0</td>\n",
       "      <td>486209.0</td>\n",
       "      <td>0.13</td>\n",
       "      <td>0.15</td>\n",
       "      <td>0.16</td>\n",
       "    </tr>\n",
       "    <tr>\n",
       "      <th>1129</th>\n",
       "      <td>93651</td>\n",
       "      <td>373100.0</td>\n",
       "      <td>395721.0</td>\n",
       "      <td>400768.0</td>\n",
       "      <td>402462.0</td>\n",
       "      <td>0.06</td>\n",
       "      <td>0.07</td>\n",
       "      <td>0.08</td>\n",
       "    </tr>\n",
       "    <tr>\n",
       "      <th>1130</th>\n",
       "      <td>92391</td>\n",
       "      <td>225500.0</td>\n",
       "      <td>249904.0</td>\n",
       "      <td>260920.0</td>\n",
       "      <td>265893.0</td>\n",
       "      <td>0.11</td>\n",
       "      <td>0.16</td>\n",
       "      <td>0.18</td>\n",
       "    </tr>\n",
       "    <tr>\n",
       "      <th>1131</th>\n",
       "      <td>95421</td>\n",
       "      <td>496200.0</td>\n",
       "      <td>511284.0</td>\n",
       "      <td>512237.0</td>\n",
       "      <td>512298.0</td>\n",
       "      <td>0.03</td>\n",
       "      <td>0.03</td>\n",
       "      <td>0.03</td>\n",
       "    </tr>\n",
       "    <tr>\n",
       "      <th>1132</th>\n",
       "      <td>92676</td>\n",
       "      <td>674400.0</td>\n",
       "      <td>666015.0</td>\n",
       "      <td>663806.0</td>\n",
       "      <td>663225.0</td>\n",
       "      <td>-0.01</td>\n",
       "      <td>-0.02</td>\n",
       "      <td>-0.02</td>\n",
       "    </tr>\n",
       "    <tr>\n",
       "      <th>1133</th>\n",
       "      <td>95462</td>\n",
       "      <td>461900.0</td>\n",
       "      <td>449863.0</td>\n",
       "      <td>447973.0</td>\n",
       "      <td>447676.0</td>\n",
       "      <td>-0.03</td>\n",
       "      <td>-0.03</td>\n",
       "      <td>-0.03</td>\n",
       "    </tr>\n",
       "    <tr>\n",
       "      <th>1134</th>\n",
       "      <td>92091</td>\n",
       "      <td>2458000.0</td>\n",
       "      <td>2568400.0</td>\n",
       "      <td>2678800.0</td>\n",
       "      <td>2789200.0</td>\n",
       "      <td>0.04</td>\n",
       "      <td>0.09</td>\n",
       "      <td>0.13</td>\n",
       "    </tr>\n",
       "    <tr>\n",
       "      <th>1135</th>\n",
       "      <td>95977</td>\n",
       "      <td>352300.0</td>\n",
       "      <td>357451.0</td>\n",
       "      <td>361528.0</td>\n",
       "      <td>363401.0</td>\n",
       "      <td>0.01</td>\n",
       "      <td>0.03</td>\n",
       "      <td>0.03</td>\n",
       "    </tr>\n",
       "    <tr>\n",
       "      <th>1136</th>\n",
       "      <td>96140</td>\n",
       "      <td>644600.0</td>\n",
       "      <td>689290.0</td>\n",
       "      <td>733090.0</td>\n",
       "      <td>776890.0</td>\n",
       "      <td>0.07</td>\n",
       "      <td>0.14</td>\n",
       "      <td>0.21</td>\n",
       "    </tr>\n",
       "    <tr>\n",
       "      <th>1137</th>\n",
       "      <td>93440</td>\n",
       "      <td>566500.0</td>\n",
       "      <td>601758.0</td>\n",
       "      <td>613382.0</td>\n",
       "      <td>617215.0</td>\n",
       "      <td>0.06</td>\n",
       "      <td>0.08</td>\n",
       "      <td>0.09</td>\n",
       "    </tr>\n",
       "    <tr>\n",
       "      <th>1138</th>\n",
       "      <td>94973</td>\n",
       "      <td>846200.0</td>\n",
       "      <td>838641.0</td>\n",
       "      <td>838352.0</td>\n",
       "      <td>838341.0</td>\n",
       "      <td>-0.01</td>\n",
       "      <td>-0.01</td>\n",
       "      <td>-0.01</td>\n",
       "    </tr>\n",
       "    <tr>\n",
       "      <th>1139</th>\n",
       "      <td>95664</td>\n",
       "      <td>546500.0</td>\n",
       "      <td>542962.0</td>\n",
       "      <td>542726.0</td>\n",
       "      <td>542655.0</td>\n",
       "      <td>-0.01</td>\n",
       "      <td>-0.01</td>\n",
       "      <td>-0.01</td>\n",
       "    </tr>\n",
       "    <tr>\n",
       "      <th>1140</th>\n",
       "      <td>96142</td>\n",
       "      <td>523600.0</td>\n",
       "      <td>623928.0</td>\n",
       "      <td>723152.0</td>\n",
       "      <td>822375.0</td>\n",
       "      <td>0.19</td>\n",
       "      <td>0.38</td>\n",
       "      <td>0.57</td>\n",
       "    </tr>\n",
       "    <tr>\n",
       "      <th>1141</th>\n",
       "      <td>96141</td>\n",
       "      <td>689700.0</td>\n",
       "      <td>741348.0</td>\n",
       "      <td>792301.0</td>\n",
       "      <td>843255.0</td>\n",
       "      <td>0.07</td>\n",
       "      <td>0.15</td>\n",
       "      <td>0.22</td>\n",
       "    </tr>\n",
       "    <tr>\n",
       "      <th>1142</th>\n",
       "      <td>92339</td>\n",
       "      <td>236900.0</td>\n",
       "      <td>227003.0</td>\n",
       "      <td>223350.0</td>\n",
       "      <td>222001.0</td>\n",
       "      <td>-0.04</td>\n",
       "      <td>-0.06</td>\n",
       "      <td>-0.06</td>\n",
       "    </tr>\n",
       "    <tr>\n",
       "      <th>1143</th>\n",
       "      <td>92333</td>\n",
       "      <td>282200.0</td>\n",
       "      <td>295886.0</td>\n",
       "      <td>298251.0</td>\n",
       "      <td>298659.0</td>\n",
       "      <td>0.05</td>\n",
       "      <td>0.06</td>\n",
       "      <td>0.06</td>\n",
       "    </tr>\n",
       "    <tr>\n",
       "      <th>1144</th>\n",
       "      <td>95636</td>\n",
       "      <td>241200.0</td>\n",
       "      <td>242213.0</td>\n",
       "      <td>242344.0</td>\n",
       "      <td>242361.0</td>\n",
       "      <td>0.00</td>\n",
       "      <td>0.00</td>\n",
       "      <td>0.00</td>\n",
       "    </tr>\n",
       "    <tr>\n",
       "      <th>1145</th>\n",
       "      <td>94970</td>\n",
       "      <td>2678700.0</td>\n",
       "      <td>2683697.0</td>\n",
       "      <td>2683962.0</td>\n",
       "      <td>2683949.0</td>\n",
       "      <td>0.00</td>\n",
       "      <td>0.00</td>\n",
       "      <td>0.00</td>\n",
       "    </tr>\n",
       "    <tr>\n",
       "      <th>1146</th>\n",
       "      <td>91008</td>\n",
       "      <td>1359900.0</td>\n",
       "      <td>1518100.0</td>\n",
       "      <td>1500052.0</td>\n",
       "      <td>1498345.0</td>\n",
       "      <td>0.12</td>\n",
       "      <td>0.10</td>\n",
       "      <td>0.10</td>\n",
       "    </tr>\n",
       "    <tr>\n",
       "      <th>1147</th>\n",
       "      <td>96148</td>\n",
       "      <td>605000.0</td>\n",
       "      <td>608748.0</td>\n",
       "      <td>609743.0</td>\n",
       "      <td>610020.0</td>\n",
       "      <td>0.01</td>\n",
       "      <td>0.01</td>\n",
       "      <td>0.01</td>\n",
       "    </tr>\n",
       "    <tr>\n",
       "      <th>1148</th>\n",
       "      <td>95728</td>\n",
       "      <td>496300.0</td>\n",
       "      <td>524555.0</td>\n",
       "      <td>529949.0</td>\n",
       "      <td>530979.0</td>\n",
       "      <td>0.06</td>\n",
       "      <td>0.07</td>\n",
       "      <td>0.07</td>\n",
       "    </tr>\n",
       "    <tr>\n",
       "      <th>1149</th>\n",
       "      <td>95497</td>\n",
       "      <td>848700.0</td>\n",
       "      <td>987900.0</td>\n",
       "      <td>1127100.0</td>\n",
       "      <td>1266300.0</td>\n",
       "      <td>0.16</td>\n",
       "      <td>0.33</td>\n",
       "      <td>0.49</td>\n",
       "    </tr>\n",
       "    <tr>\n",
       "      <th>1150</th>\n",
       "      <td>92322</td>\n",
       "      <td>200100.0</td>\n",
       "      <td>224345.0</td>\n",
       "      <td>229631.0</td>\n",
       "      <td>230784.0</td>\n",
       "      <td>0.12</td>\n",
       "      <td>0.15</td>\n",
       "      <td>0.15</td>\n",
       "    </tr>\n",
       "    <tr>\n",
       "      <th>1151</th>\n",
       "      <td>92341</td>\n",
       "      <td>183600.0</td>\n",
       "      <td>197416.0</td>\n",
       "      <td>200736.0</td>\n",
       "      <td>201534.0</td>\n",
       "      <td>0.08</td>\n",
       "      <td>0.09</td>\n",
       "      <td>0.10</td>\n",
       "    </tr>\n",
       "  </tbody>\n",
       "</table>\n",
       "<p>1152 rows × 8 columns</p>\n",
       "</div>"
      ],
      "text/plain": [
       "      Zipcode  Current Value  Value After 1 Year  Value After 2 Year  \\\n",
       "0       94109      3813500.0           3980863.0           3998647.0   \n",
       "1       90250       616200.0            640778.0            658125.0   \n",
       "2       94565       430100.0            464343.0            491166.0   \n",
       "3       90046      1966900.0           1883392.0           1848046.0   \n",
       "4       94501      1059700.0           1071992.0           1075278.0   \n",
       "5       90034      1419100.0           1511500.0           1603900.0   \n",
       "6       94110      1594000.0           1882000.0           2170000.0   \n",
       "7       90044       421100.0            431513.0            435654.0   \n",
       "8       90805       459100.0            470337.0            479275.0   \n",
       "9       95630       542900.0            532545.0            527721.0   \n",
       "10      90650       481800.0            483547.0            484922.0   \n",
       "11      92683       656900.0            673011.0            684076.0   \n",
       "12      94558       692600.0            695768.0            695100.0   \n",
       "13      90026       972100.0            939150.0            920756.0   \n",
       "14      91910       552400.0            560186.0            565963.0   \n",
       "15      93722       241900.0            248429.0            249113.0   \n",
       "16      94533       384900.0            408548.0            426129.0   \n",
       "17      95608       406100.0            406378.0            406543.0   \n",
       "18      90066      1489900.0           1440700.0           1391500.0   \n",
       "19      91709       694000.0            724096.0            744512.0   \n",
       "20      92677       964200.0            961719.0            960158.0   \n",
       "21      95823       272800.0            264568.0            258776.0   \n",
       "22      92804       577700.0            581848.0            585103.0   \n",
       "23      92345       246700.0            264739.0            279242.0   \n",
       "24      92126       615100.0            614857.0            614720.0   \n",
       "25      90019      1112400.0           1177516.0           1213754.0   \n",
       "26      92336       447600.0            462785.0            474389.0   \n",
       "27      91911       489200.0            498258.0            502754.0   \n",
       "28      92503       383600.0            390071.0            394899.0   \n",
       "29      94536      1072700.0           1210700.0           1348700.0   \n",
       "...       ...            ...                 ...                 ...   \n",
       "1122    91962       451100.0            442246.0            440353.0   \n",
       "1123    96146       864000.0            939600.0           1015200.0   \n",
       "1124    95638       598600.0            597136.0            600644.0   \n",
       "1125    91916       444900.0            425201.0            421300.0   \n",
       "1126    93424      1130800.0           1148620.0           1151437.0   \n",
       "1127    95703       412800.0            429217.0            430859.0   \n",
       "1128    92561       420500.0            477214.0            485110.0   \n",
       "1129    93651       373100.0            395721.0            400768.0   \n",
       "1130    92391       225500.0            249904.0            260920.0   \n",
       "1131    95421       496200.0            511284.0            512237.0   \n",
       "1132    92676       674400.0            666015.0            663806.0   \n",
       "1133    95462       461900.0            449863.0            447973.0   \n",
       "1134    92091      2458000.0           2568400.0           2678800.0   \n",
       "1135    95977       352300.0            357451.0            361528.0   \n",
       "1136    96140       644600.0            689290.0            733090.0   \n",
       "1137    93440       566500.0            601758.0            613382.0   \n",
       "1138    94973       846200.0            838641.0            838352.0   \n",
       "1139    95664       546500.0            542962.0            542726.0   \n",
       "1140    96142       523600.0            623928.0            723152.0   \n",
       "1141    96141       689700.0            741348.0            792301.0   \n",
       "1142    92339       236900.0            227003.0            223350.0   \n",
       "1143    92333       282200.0            295886.0            298251.0   \n",
       "1144    95636       241200.0            242213.0            242344.0   \n",
       "1145    94970      2678700.0           2683697.0           2683962.0   \n",
       "1146    91008      1359900.0           1518100.0           1500052.0   \n",
       "1147    96148       605000.0            608748.0            609743.0   \n",
       "1148    95728       496300.0            524555.0            529949.0   \n",
       "1149    95497       848700.0            987900.0           1127100.0   \n",
       "1150    92322       200100.0            224345.0            229631.0   \n",
       "1151    92341       183600.0            197416.0            200736.0   \n",
       "\n",
       "      Value After 3 Year  ROI After 1 Year  ROI After 2 Year  ROI After 3 Year  \n",
       "0              4000537.0              0.04              0.05              0.05  \n",
       "1               670370.0              0.04              0.07              0.09  \n",
       "2               511258.0              0.08              0.14              0.19  \n",
       "3              1833086.0             -0.04             -0.06             -0.07  \n",
       "4              1076247.0              0.01              0.01              0.02  \n",
       "5              1696300.0              0.07              0.13              0.20  \n",
       "6              2458000.0              0.18              0.36              0.54  \n",
       "7               438164.0              0.02              0.03              0.04  \n",
       "8               486383.0              0.02              0.04              0.06  \n",
       "9               525472.0             -0.02             -0.03             -0.03  \n",
       "10              486006.0              0.00              0.01              0.01  \n",
       "11              691675.0              0.02              0.04              0.05  \n",
       "12              695100.0              0.00              0.00              0.00  \n",
       "13              910488.0             -0.03             -0.05             -0.06  \n",
       "14              570249.0              0.01              0.02              0.03  \n",
       "15              249113.0              0.03              0.03              0.03  \n",
       "16              439199.0              0.06              0.11              0.14  \n",
       "17              406640.0              0.00              0.00              0.00  \n",
       "18             1342300.0             -0.03             -0.07             -0.10  \n",
       "19              758361.0              0.04              0.07              0.09  \n",
       "20              959162.0             -0.00             -0.00             -0.01  \n",
       "21              254701.0             -0.03             -0.05             -0.07  \n",
       "22              587656.0              0.01              0.01              0.02  \n",
       "23              291051.0              0.07              0.13              0.18  \n",
       "24              614642.0             -0.00             -0.00             -0.00  \n",
       "25             1233922.0              0.06              0.09              0.11  \n",
       "26              483257.0              0.03              0.06              0.08  \n",
       "27              505068.0              0.02              0.03              0.03  \n",
       "28              398501.0              0.02              0.03              0.04  \n",
       "29             1486700.0              0.13              0.26              0.39  \n",
       "...                  ...               ...               ...               ...  \n",
       "1122            439948.0             -0.02             -0.02             -0.02  \n",
       "1123           1090800.0              0.09              0.18              0.26  \n",
       "1124            602272.0             -0.00              0.00              0.01  \n",
       "1125            420527.0             -0.04             -0.05             -0.05  \n",
       "1126           1151882.0              0.02              0.02              0.02  \n",
       "1127            431599.0              0.04              0.04              0.05  \n",
       "1128            486209.0              0.13              0.15              0.16  \n",
       "1129            402462.0              0.06              0.07              0.08  \n",
       "1130            265893.0              0.11              0.16              0.18  \n",
       "1131            512298.0              0.03              0.03              0.03  \n",
       "1132            663225.0             -0.01             -0.02             -0.02  \n",
       "1133            447676.0             -0.03             -0.03             -0.03  \n",
       "1134           2789200.0              0.04              0.09              0.13  \n",
       "1135            363401.0              0.01              0.03              0.03  \n",
       "1136            776890.0              0.07              0.14              0.21  \n",
       "1137            617215.0              0.06              0.08              0.09  \n",
       "1138            838341.0             -0.01             -0.01             -0.01  \n",
       "1139            542655.0             -0.01             -0.01             -0.01  \n",
       "1140            822375.0              0.19              0.38              0.57  \n",
       "1141            843255.0              0.07              0.15              0.22  \n",
       "1142            222001.0             -0.04             -0.06             -0.06  \n",
       "1143            298659.0              0.05              0.06              0.06  \n",
       "1144            242361.0              0.00              0.00              0.00  \n",
       "1145           2683949.0              0.00              0.00              0.00  \n",
       "1146           1498345.0              0.12              0.10              0.10  \n",
       "1147            610020.0              0.01              0.01              0.01  \n",
       "1148            530979.0              0.06              0.07              0.07  \n",
       "1149           1266300.0              0.16              0.33              0.49  \n",
       "1150            230784.0              0.12              0.15              0.15  \n",
       "1151            201534.0              0.08              0.09              0.10  \n",
       "\n",
       "[1152 rows x 8 columns]"
      ]
     },
     "execution_count": 229,
     "metadata": {},
     "output_type": "execute_result"
    }
   ],
   "source": [
    "# Now, forecast the real data of California\n",
    "dataframe = final_df[final_df['state']=='CA']\n",
    "\n",
    "# find best models\n",
    "model_df = find_best_fit_models(dataframe)\n",
    "\n",
    "# fit and forecast\n",
    "forecast_df, roi_df = fit_and_forecast(dataframe, model_df)\n",
    "\n",
    "# show result\n",
    "roi_df"
   ]
  },
  {
   "cell_type": "markdown",
   "metadata": {},
   "source": [
    "# Step 6: Interpreting Results & Making Conclusions"
   ]
  },
  {
   "cell_type": "markdown",
   "metadata": {},
   "source": [
    "#### Sort the ROI values to get the Top 5 performers"
   ]
  },
  {
   "cell_type": "code",
   "execution_count": 290,
   "metadata": {},
   "outputs": [
    {
     "data": {
      "text/html": [
       "<div>\n",
       "<style scoped>\n",
       "    .dataframe tbody tr th:only-of-type {\n",
       "        vertical-align: middle;\n",
       "    }\n",
       "\n",
       "    .dataframe tbody tr th {\n",
       "        vertical-align: top;\n",
       "    }\n",
       "\n",
       "    .dataframe thead th {\n",
       "        text-align: right;\n",
       "    }\n",
       "</style>\n",
       "<table border=\"1\" class=\"dataframe\">\n",
       "  <thead>\n",
       "    <tr style=\"text-align: right;\">\n",
       "      <th></th>\n",
       "      <th>Zipcode</th>\n",
       "      <th>Current Value</th>\n",
       "      <th>Value After 1 Year</th>\n",
       "      <th>Value After 2 Year</th>\n",
       "      <th>Value After 3 Year</th>\n",
       "      <th>ROI After 1 Year</th>\n",
       "      <th>ROI After 2 Year</th>\n",
       "      <th>ROI After 3 Year</th>\n",
       "    </tr>\n",
       "  </thead>\n",
       "  <tbody>\n",
       "    <tr>\n",
       "      <th>1</th>\n",
       "      <td>95050</td>\n",
       "      <td>1385100.0</td>\n",
       "      <td>1803900.0</td>\n",
       "      <td>2222700.0</td>\n",
       "      <td>2641500.0</td>\n",
       "      <td>0.30</td>\n",
       "      <td>0.60</td>\n",
       "      <td>0.91</td>\n",
       "    </tr>\n",
       "    <tr>\n",
       "      <th>4</th>\n",
       "      <td>93924</td>\n",
       "      <td>1015200.0</td>\n",
       "      <td>1321200.0</td>\n",
       "      <td>1627200.0</td>\n",
       "      <td>1933200.0</td>\n",
       "      <td>0.30</td>\n",
       "      <td>0.60</td>\n",
       "      <td>0.90</td>\n",
       "    </tr>\n",
       "    <tr>\n",
       "      <th>0</th>\n",
       "      <td>95035</td>\n",
       "      <td>1160700.0</td>\n",
       "      <td>1506300.0</td>\n",
       "      <td>1851900.0</td>\n",
       "      <td>2197500.0</td>\n",
       "      <td>0.30</td>\n",
       "      <td>0.60</td>\n",
       "      <td>0.89</td>\n",
       "    </tr>\n",
       "    <tr>\n",
       "      <th>3</th>\n",
       "      <td>95054</td>\n",
       "      <td>1368000.0</td>\n",
       "      <td>1760400.0</td>\n",
       "      <td>2152800.0</td>\n",
       "      <td>2545200.0</td>\n",
       "      <td>0.29</td>\n",
       "      <td>0.57</td>\n",
       "      <td>0.86</td>\n",
       "    </tr>\n",
       "    <tr>\n",
       "      <th>2</th>\n",
       "      <td>95128</td>\n",
       "      <td>1253000.0</td>\n",
       "      <td>1608200.0</td>\n",
       "      <td>1963400.0</td>\n",
       "      <td>2318600.0</td>\n",
       "      <td>0.28</td>\n",
       "      <td>0.57</td>\n",
       "      <td>0.85</td>\n",
       "    </tr>\n",
       "  </tbody>\n",
       "</table>\n",
       "</div>"
      ],
      "text/plain": [
       "   Zipcode  Current Value  Value After 1 Year  Value After 2 Year  \\\n",
       "1    95050      1385100.0           1803900.0           2222700.0   \n",
       "4    93924      1015200.0           1321200.0           1627200.0   \n",
       "0    95035      1160700.0           1506300.0           1851900.0   \n",
       "3    95054      1368000.0           1760400.0           2152800.0   \n",
       "2    95128      1253000.0           1608200.0           1963400.0   \n",
       "\n",
       "   Value After 3 Year  ROI After 1 Year  ROI After 2 Year  ROI After 3 Year  \n",
       "1           2641500.0              0.30              0.60              0.91  \n",
       "4           1933200.0              0.30              0.60              0.90  \n",
       "0           2197500.0              0.30              0.60              0.89  \n",
       "3           2545200.0              0.29              0.57              0.86  \n",
       "2           2318600.0              0.28              0.57              0.85  "
      ]
     },
     "execution_count": 290,
     "metadata": {},
     "output_type": "execute_result"
    }
   ],
   "source": [
    "# sort the get top 5 performers order by After 1st Year\n",
    "top_5_after_3_year = roi_df.sort_values(['ROI After 3 Year', 'ROI After 2 Year', 'ROI After 1 Year'],\n",
    "                     ascending=False).head(5)\n",
    "top_5_after_3_year"
   ]
  },
  {
   "cell_type": "markdown",
   "metadata": {},
   "source": [
    "### So the Top 5 Zipcodes that would forecastedly produce most return would be in the zipcodes list above\n"
   ]
  },
  {
   "cell_type": "markdown",
   "metadata": {},
   "source": [
    "#### Plot the historical and forecasted values of Top 5 Performers\n",
    "\n",
    "use f instead of forcasted"
   ]
  },
  {
   "cell_type": "code",
   "execution_count": 294,
   "metadata": {},
   "outputs": [
    {
     "name": "stdout",
     "output_type": "stream",
     "text": [
      "Top 5 Zipcodes with max return in 3 years are: [95050 93924 95035 95054 95128]\n"
     ]
    }
   ],
   "source": [
    "# top 5 zipcodes\n",
    "top_5_zipcodes = top_5_after_3_year['Zipcode'].unique()\n",
    "print(f'Top 5 Zipcodes with max return in 3 years are: {top_5_zipcodes}')\n",
    "\n",
    "# top 5 dataframe\n",
    "top_5_df = final_df.loc[final_df['zipcode'].isin(top_5_zipcodes)]\n",
    "\n",
    "# top 5 forecasted dataframe\n",
    "top_5_forecast_df = forecast_df[forecast_df['zipcode'].isin(top_5_zipcodes)]"
   ]
  },
  {
   "cell_type": "code",
   "execution_count": 292,
   "metadata": {},
   "outputs": [
    {
     "data": {
      "image/png": "[encoded data removed]",
      "text/plain": [
       "<Figure size 1440x720 with 1 Axes>"
      ]
     },
     "metadata": {
      "needs_background": "light"
     },
     "output_type": "display_data"
    }
   ],
   "source": [
    "# plot historical value and forecasted value of Top 5 Performers\n",
    "for zipcode in top_5_zipcodes:\n",
    "    data = top_5_df[top_5_df['zipcode']==zipcode]\n",
    "    col_name = str(zipcode)\n",
    "    data[col_name] = data['value']\n",
    "    data[col_name].plot(legend=True, figsize=(20,10))\n",
    "    \n",
    "    forecast = forecast_df[forecast_df['zipcode']==zipcode]\n",
    "    col_name = 'forecasted ' + str(zipcode)\n",
    "    forecast[col_name] = forecast['value']\n",
    "    forecast[col_name].plot(legend=True)"
   ]
  }
 ],
 "metadata": {
  "kernelspec": {
   "display_name": "Python 3",
   "language": "python",
   "name": "python3"
  },
  "language_info": {
   "codemirror_mode": {
    "name": "ipython",
    "version": 3
   },
   "file_extension": ".py",
   "mimetype": "text/x-python",
   "name": "python",
   "nbconvert_exporter": "python",
   "pygments_lexer": "ipython3",
   "version": "3.7.3"
  }
 },
 "nbformat": 4,
 "nbformat_minor": 2
}
